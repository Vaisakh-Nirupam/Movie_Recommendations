{
 "cells": [
  {
   "cell_type": "markdown",
   "metadata": {},
   "source": [
    "# Movie Recommendation System"
   ]
  },
  {
   "cell_type": "code",
   "execution_count": 2,
   "metadata": {},
   "outputs": [],
   "source": [
    "import pandas as pd\n",
    "import spacy\n",
    "import pickle"
   ]
  },
  {
   "cell_type": "code",
   "execution_count": 3,
   "metadata": {},
   "outputs": [
    {
     "data": {
      "application/vnd.microsoft.datawrangler.viewer.v0+json": {
       "columns": [
        {
         "name": "index",
         "rawType": "int64",
         "type": "integer"
        },
        {
         "name": "Poster_Link",
         "rawType": "object",
         "type": "string"
        },
        {
         "name": "Series_Title",
         "rawType": "object",
         "type": "string"
        },
        {
         "name": "Released_Year",
         "rawType": "object",
         "type": "string"
        },
        {
         "name": "Certificate",
         "rawType": "object",
         "type": "unknown"
        },
        {
         "name": "Runtime",
         "rawType": "object",
         "type": "string"
        },
        {
         "name": "Genre",
         "rawType": "object",
         "type": "string"
        },
        {
         "name": "IMDB_Rating",
         "rawType": "float64",
         "type": "float"
        },
        {
         "name": "Overview",
         "rawType": "object",
         "type": "string"
        },
        {
         "name": "Meta_score",
         "rawType": "float64",
         "type": "float"
        },
        {
         "name": "Director",
         "rawType": "object",
         "type": "string"
        },
        {
         "name": "Star1",
         "rawType": "object",
         "type": "string"
        },
        {
         "name": "Star2",
         "rawType": "object",
         "type": "string"
        },
        {
         "name": "Star3",
         "rawType": "object",
         "type": "string"
        },
        {
         "name": "Star4",
         "rawType": "object",
         "type": "string"
        },
        {
         "name": "No_of_Votes",
         "rawType": "int64",
         "type": "integer"
        },
        {
         "name": "Gross",
         "rawType": "object",
         "type": "unknown"
        }
       ],
       "ref": "83010db4-aad4-4b45-9ab3-f62e40749f31",
       "rows": [
        [
         "0",
         "https://m.media-amazon.com/images/M/MV5BMDFkYTc0MGEtZmNhMC00ZDIzLWFmNTEtODM1ZmRlYWMwMWFmXkEyXkFqcGdeQXVyMTMxODk2OTU@._V1_UX67_CR0,0,67,98_AL_.jpg",
         "The Shawshank Redemption",
         "1994",
         "A",
         "142 min",
         "Drama",
         "9.3",
         "Two imprisoned men bond over a number of years, finding solace and eventual redemption through acts of common decency.",
         "80.0",
         "Frank Darabont",
         "Tim Robbins",
         "Morgan Freeman",
         "Bob Gunton",
         "William Sadler",
         "2343110",
         "28,341,469"
        ],
        [
         "1",
         "https://m.media-amazon.com/images/M/MV5BM2MyNjYxNmUtYTAwNi00MTYxLWJmNWYtYzZlODY3ZTk3OTFlXkEyXkFqcGdeQXVyNzkwMjQ5NzM@._V1_UY98_CR1,0,67,98_AL_.jpg",
         "The Godfather",
         "1972",
         "A",
         "175 min",
         "Crime, Drama",
         "9.2",
         "An organized crime dynasty's aging patriarch transfers control of his clandestine empire to his reluctant son.",
         "100.0",
         "Francis Ford Coppola",
         "Marlon Brando",
         "Al Pacino",
         "James Caan",
         "Diane Keaton",
         "1620367",
         "134,966,411"
        ],
        [
         "2",
         "https://m.media-amazon.com/images/M/MV5BMTMxNTMwODM0NF5BMl5BanBnXkFtZTcwODAyMTk2Mw@@._V1_UX67_CR0,0,67,98_AL_.jpg",
         "The Dark Knight",
         "2008",
         "UA",
         "152 min",
         "Action, Crime, Drama",
         "9.0",
         "When the menace known as the Joker wreaks havoc and chaos on the people of Gotham, Batman must accept one of the greatest psychological and physical tests of his ability to fight injustice.",
         "84.0",
         "Christopher Nolan",
         "Christian Bale",
         "Heath Ledger",
         "Aaron Eckhart",
         "Michael Caine",
         "2303232",
         "534,858,444"
        ],
        [
         "3",
         "https://m.media-amazon.com/images/M/MV5BMWMwMGQzZTItY2JlNC00OWZiLWIyMDctNDk2ZDQ2YjRjMWQ0XkEyXkFqcGdeQXVyNzkwMjQ5NzM@._V1_UY98_CR1,0,67,98_AL_.jpg",
         "The Godfather: Part II",
         "1974",
         "A",
         "202 min",
         "Crime, Drama",
         "9.0",
         "The early life and career of Vito Corleone in 1920s New York City is portrayed, while his son, Michael, expands and tightens his grip on the family crime syndicate.",
         "90.0",
         "Francis Ford Coppola",
         "Al Pacino",
         "Robert De Niro",
         "Robert Duvall",
         "Diane Keaton",
         "1129952",
         "57,300,000"
        ],
        [
         "4",
         "https://m.media-amazon.com/images/M/MV5BMWU4N2FjNzYtNTVkNC00NzQ0LTg0MjAtYTJlMjFhNGUxZDFmXkEyXkFqcGdeQXVyNjc1NTYyMjg@._V1_UX67_CR0,0,67,98_AL_.jpg",
         "12 Angry Men",
         "1957",
         "U",
         "96 min",
         "Crime, Drama",
         "9.0",
         "A jury holdout attempts to prevent a miscarriage of justice by forcing his colleagues to reconsider the evidence.",
         "96.0",
         "Sidney Lumet",
         "Henry Fonda",
         "Lee J. Cobb",
         "Martin Balsam",
         "John Fiedler",
         "689845",
         "4,360,000"
        ],
        [
         "5",
         "https://m.media-amazon.com/images/M/MV5BNzA5ZDNlZWMtM2NhNS00NDJjLTk4NDItYTRmY2EwMWZlMTY3XkEyXkFqcGdeQXVyNzkwMjQ5NzM@._V1_UX67_CR0,0,67,98_AL_.jpg",
         "The Lord of the Rings: The Return of the King",
         "2003",
         "U",
         "201 min",
         "Action, Adventure, Drama",
         "8.9",
         "Gandalf and Aragorn lead the World of Men against Sauron's army to draw his gaze from Frodo and Sam as they approach Mount Doom with the One Ring.",
         "94.0",
         "Peter Jackson",
         "Elijah Wood",
         "Viggo Mortensen",
         "Ian McKellen",
         "Orlando Bloom",
         "1642758",
         "377,845,905"
        ],
        [
         "6",
         "https://m.media-amazon.com/images/M/MV5BNGNhMDIzZTUtNTBlZi00MTRlLWFjM2ItYzViMjE3YzI5MjljXkEyXkFqcGdeQXVyNzkwMjQ5NzM@._V1_UY98_CR0,0,67,98_AL_.jpg",
         "Pulp Fiction",
         "1994",
         "A",
         "154 min",
         "Crime, Drama",
         "8.9",
         "The lives of two mob hitmen, a boxer, a gangster and his wife, and a pair of diner bandits intertwine in four tales of violence and redemption.",
         "94.0",
         "Quentin Tarantino",
         "John Travolta",
         "Uma Thurman",
         "Samuel L. Jackson",
         "Bruce Willis",
         "1826188",
         "107,928,762"
        ],
        [
         "7",
         "https://m.media-amazon.com/images/M/MV5BNDE4OTMxMTctNmRhYy00NWE2LTg3YzItYTk3M2UwOTU5Njg4XkEyXkFqcGdeQXVyNjU0OTQ0OTY@._V1_UX67_CR0,0,67,98_AL_.jpg",
         "Schindler's List",
         "1993",
         "A",
         "195 min",
         "Biography, Drama, History",
         "8.9",
         "In German-occupied Poland during World War II, industrialist Oskar Schindler gradually becomes concerned for his Jewish workforce after witnessing their persecution by the Nazis.",
         "94.0",
         "Steven Spielberg",
         "Liam Neeson",
         "Ralph Fiennes",
         "Ben Kingsley",
         "Caroline Goodall",
         "1213505",
         "96,898,818"
        ],
        [
         "8",
         "https://m.media-amazon.com/images/M/MV5BMjAxMzY3NjcxNF5BMl5BanBnXkFtZTcwNTI5OTM0Mw@@._V1_UX67_CR0,0,67,98_AL_.jpg",
         "Inception",
         "2010",
         "UA",
         "148 min",
         "Action, Adventure, Sci-Fi",
         "8.8",
         "A thief who steals corporate secrets through the use of dream-sharing technology is given the inverse task of planting an idea into the mind of a C.E.O.",
         "74.0",
         "Christopher Nolan",
         "Leonardo DiCaprio",
         "Joseph Gordon-Levitt",
         "Elliot Page",
         "Ken Watanabe",
         "2067042",
         "292,576,195"
        ],
        [
         "9",
         "https://m.media-amazon.com/images/M/MV5BMmEzNTkxYjQtZTc0MC00YTVjLTg5ZTEtZWMwOWVlYzY0NWIwXkEyXkFqcGdeQXVyNzkwMjQ5NzM@._V1_UX67_CR0,0,67,98_AL_.jpg",
         "Fight Club",
         "1999",
         "A",
         "139 min",
         "Drama",
         "8.8",
         "An insomniac office worker and a devil-may-care soapmaker form an underground fight club that evolves into something much, much more.",
         "66.0",
         "David Fincher",
         "Brad Pitt",
         "Edward Norton",
         "Meat Loaf",
         "Zach Grenier",
         "1854740",
         "37,030,102"
        ],
        [
         "10",
         "https://m.media-amazon.com/images/M/MV5BN2EyZjM3NzUtNWUzMi00MTgxLWI0NTctMzY4M2VlOTdjZWRiXkEyXkFqcGdeQXVyNDUzOTQ5MjY@._V1_UX67_CR0,0,67,98_AL_.jpg",
         "The Lord of the Rings: The Fellowship of the Ring",
         "2001",
         "U",
         "178 min",
         "Action, Adventure, Drama",
         "8.8",
         "A meek Hobbit from the Shire and eight companions set out on a journey to destroy the powerful One Ring and save Middle-earth from the Dark Lord Sauron.",
         "92.0",
         "Peter Jackson",
         "Elijah Wood",
         "Ian McKellen",
         "Orlando Bloom",
         "Sean Bean",
         "1661481",
         "315,544,750"
        ],
        [
         "11",
         "https://m.media-amazon.com/images/M/MV5BNWIwODRlZTUtY2U3ZS00Yzg1LWJhNzYtMmZiYmEyNmU1NjMzXkEyXkFqcGdeQXVyMTQxNzMzNDI@._V1_UY98_CR0,0,67,98_AL_.jpg",
         "Forrest Gump",
         "1994",
         "UA",
         "142 min",
         "Drama, Romance",
         "8.8",
         "The presidencies of Kennedy and Johnson, the events of Vietnam, Watergate and other historical events unfold through the perspective of an Alabama man with an IQ of 75, whose only desire is to be reunited with his childhood sweetheart.",
         "82.0",
         "Robert Zemeckis",
         "Tom Hanks",
         "Robin Wright",
         "Gary Sinise",
         "Sally Field",
         "1809221",
         "330,252,182"
        ],
        [
         "12",
         "https://m.media-amazon.com/images/M/MV5BOTQ5NDI3MTI4MF5BMl5BanBnXkFtZTgwNDQ4ODE5MDE@._V1_UX67_CR0,0,67,98_AL_.jpg",
         "Il buono, il brutto, il cattivo",
         "1966",
         "A",
         "161 min",
         "Western",
         "8.8",
         "A bounty hunting scam joins two men in an uneasy alliance against a third in a race to find a fortune in gold buried in a remote cemetery.",
         "90.0",
         "Sergio Leone",
         "Clint Eastwood",
         "Eli Wallach",
         "Lee Van Cleef",
         "Aldo Giuffrè",
         "688390",
         "6,100,000"
        ],
        [
         "13",
         "https://m.media-amazon.com/images/M/MV5BZGMxZTdjZmYtMmE2Ni00ZTdkLWI5NTgtNjlmMjBiNzU2MmI5XkEyXkFqcGdeQXVyNjU0OTQ0OTY@._V1_UX67_CR0,0,67,98_AL_.jpg",
         "The Lord of the Rings: The Two Towers",
         "2002",
         "UA",
         "179 min",
         "Action, Adventure, Drama",
         "8.7",
         "While Frodo and Sam edge closer to Mordor with the help of the shifty Gollum, the divided fellowship makes a stand against Sauron's new ally, Saruman, and his hordes of Isengard.",
         "87.0",
         "Peter Jackson",
         "Elijah Wood",
         "Ian McKellen",
         "Viggo Mortensen",
         "Orlando Bloom",
         "1485555",
         "342,551,365"
        ],
        [
         "14",
         "https://m.media-amazon.com/images/M/MV5BNzQzOTk3OTAtNDQ0Zi00ZTVkLWI0MTEtMDllZjNkYzNjNTc4L2ltYWdlXkEyXkFqcGdeQXVyNjU0OTQ0OTY@._V1_UX67_CR0,0,67,98_AL_.jpg",
         "The Matrix",
         "1999",
         "A",
         "136 min",
         "Action, Sci-Fi",
         "8.7",
         "When a beautiful stranger leads computer hacker Neo to a forbidding underworld, he discovers the shocking truth--the life he knows is the elaborate deception of an evil cyber-intelligence.",
         "73.0",
         "Lana Wachowski",
         "Lilly Wachowski",
         "Keanu Reeves",
         "Laurence Fishburne",
         "Carrie-Anne Moss",
         "1676426",
         "171,479,930"
        ],
        [
         "15",
         "https://m.media-amazon.com/images/M/MV5BY2NkZjEzMDgtN2RjYy00YzM1LWI4ZmQtMjIwYjFjNmI3ZGEwXkEyXkFqcGdeQXVyNzkwMjQ5NzM@._V1_UX67_CR0,0,67,98_AL_.jpg",
         "Goodfellas",
         "1990",
         "A",
         "146 min",
         "Biography, Crime, Drama",
         "8.7",
         "The story of Henry Hill and his life in the mob, covering his relationship with his wife Karen Hill and his mob partners Jimmy Conway and Tommy DeVito in the Italian-American crime syndicate.",
         "90.0",
         "Martin Scorsese",
         "Robert De Niro",
         "Ray Liotta",
         "Joe Pesci",
         "Lorraine Bracco",
         "1020727",
         "46,836,394"
        ],
        [
         "16",
         "https://m.media-amazon.com/images/M/MV5BYmU1NDRjNDgtMzhiMi00NjZmLTg5NGItZDNiZjU5NTU4OTE0XkEyXkFqcGdeQXVyNzkwMjQ5NzM@._V1_UX67_CR0,0,67,98_AL_.jpg",
         "Star Wars: Episode V - The Empire Strikes Back",
         "1980",
         "UA",
         "124 min",
         "Action, Adventure, Fantasy",
         "8.7",
         "After the Rebels are brutally overpowered by the Empire on the ice planet Hoth, Luke Skywalker begins Jedi training with Yoda, while his friends are pursued by Darth Vader and a bounty hunter named Boba Fett all over the galaxy.",
         "82.0",
         "Irvin Kershner",
         "Mark Hamill",
         "Harrison Ford",
         "Carrie Fisher",
         "Billy Dee Williams",
         "1159315",
         "290,475,067"
        ],
        [
         "17",
         "https://m.media-amazon.com/images/M/MV5BZjA0OWVhOTAtYWQxNi00YzNhLWI4ZjYtNjFjZTEyYjJlNDVlL2ltYWdlL2ltYWdlXkEyXkFqcGdeQXVyMTQxNzMzNDI@._V1_UX67_CR0,0,67,98_AL_.jpg",
         "One Flew Over the Cuckoo's Nest",
         "1975",
         "A",
         "133 min",
         "Drama",
         "8.7",
         "A criminal pleads insanity and is admitted to a mental institution, where he rebels against the oppressive nurse and rallies up the scared patients.",
         "83.0",
         "Milos Forman",
         "Jack Nicholson",
         "Louise Fletcher",
         "Michael Berryman",
         "Peter Brocco",
         "918088",
         "112,000,000"
        ],
        [
         "18",
         "https://m.media-amazon.com/images/M/MV5BNjViNWRjYWEtZTI0NC00N2E3LTk0NGQtMjY4NTM3OGNkZjY0XkEyXkFqcGdeQXVyMjUxMTY3ODM@._V1_UX67_CR0,0,67,98_AL_.jpg",
         "Hamilton",
         "2020",
         "PG-13",
         "160 min",
         "Biography, Drama, History",
         "8.6",
         "The real life of one of America's foremost founding fathers and first Secretary of the Treasury, Alexander Hamilton. Captured live on Broadway from the Richard Rodgers Theater with the original Broadway cast.",
         "90.0",
         "Thomas Kail",
         "Lin-Manuel Miranda",
         "Phillipa Soo",
         "Leslie Odom Jr.",
         "Renée Elise Goldsberry",
         "55291",
         null
        ],
        [
         "19",
         "https://m.media-amazon.com/images/M/MV5BYWZjMjk3ZTItODQ2ZC00NTY5LWE0ZDYtZTI3MjcwN2Q5NTVkXkEyXkFqcGdeQXVyODk4OTc3MTY@._V1_UX67_CR0,0,67,98_AL_.jpg",
         "Gisaengchung",
         "2019",
         "A",
         "132 min",
         "Comedy, Drama, Thriller",
         "8.6",
         "Greed and class discrimination threaten the newly formed symbiotic relationship between the wealthy Park family and the destitute Kim clan.",
         "96.0",
         "Bong Joon Ho",
         "Kang-ho Song",
         "Lee Sun-kyun",
         "Cho Yeo-jeong",
         "Choi Woo-sik",
         "552778",
         "53,367,844"
        ],
        [
         "20",
         "https://m.media-amazon.com/images/M/MV5BOTc2ZTlmYmItMDBhYS00YmMzLWI4ZjAtMTI5YTBjOTFiMGEwXkEyXkFqcGdeQXVyODE5NzE3OTE@._V1_UY98_CR0,0,67,98_AL_.jpg",
         "Soorarai Pottru",
         "2020",
         "U",
         "153 min",
         "Drama",
         "8.6",
         "Nedumaaran Rajangam \"Maara\" sets out to make the common man fly and in the process takes on the world's most capital intensive industry and several enemies who stand in his way.",
         null,
         "Sudha Kongara",
         "Suriya",
         "Madhavan",
         "Paresh Rawal",
         "Aparna Balamurali",
         "54995",
         null
        ],
        [
         "21",
         "https://m.media-amazon.com/images/M/MV5BZjdkOTU3MDktN2IxOS00OGEyLWFmMjktY2FiMmZkNWIyODZiXkEyXkFqcGdeQXVyMTMxODk2OTU@._V1_UX67_CR0,0,67,98_AL_.jpg",
         "Interstellar",
         "2014",
         "UA",
         "169 min",
         "Adventure, Drama, Sci-Fi",
         "8.6",
         "A team of explorers travel through a wormhole in space in an attempt to ensure humanity's survival.",
         "74.0",
         "Christopher Nolan",
         "Matthew McConaughey",
         "Anne Hathaway",
         "Jessica Chastain",
         "Mackenzie Foy",
         "1512360",
         "188,020,017"
        ],
        [
         "22",
         "https://m.media-amazon.com/images/M/MV5BOTMwYjc5ZmItYTFjZC00ZGQ3LTlkNTMtMjZiNTZlMWQzNzI5XkEyXkFqcGdeQXVyNzkwMjQ5NzM@._V1_UX67_CR0,0,67,98_AL_.jpg",
         "Cidade de Deus",
         "2002",
         "A",
         "130 min",
         "Crime, Drama",
         "8.6",
         "In the slums of Rio, two kids' paths diverge as one struggles to become a photographer and the other a kingpin.",
         "79.0",
         "Fernando Meirelles",
         "Kátia Lund",
         "Alexandre Rodrigues",
         "Leandro Firmino",
         "Matheus Nachtergaele",
         "699256",
         "7,563,397"
        ],
        [
         "23",
         "https://m.media-amazon.com/images/M/MV5BMjlmZmI5MDctNDE2YS00YWE0LWE5ZWItZDBhYWQ0NTcxNWRhXkEyXkFqcGdeQXVyMTMxODk2OTU@._V1_UX67_CR0,0,67,98_AL_.jpg",
         "Sen to Chihiro no kamikakushi",
         "2001",
         "U",
         "125 min",
         "Animation, Adventure, Family",
         "8.6",
         "During her family's move to the suburbs, a sullen 10-year-old girl wanders into a world ruled by gods, witches, and spirits, and where humans are changed into beasts.",
         "96.0",
         "Hayao Miyazaki",
         "Daveigh Chase",
         "Suzanne Pleshette",
         "Miyu Irino",
         "Rumi Hiiragi",
         "651376",
         "10,055,859"
        ],
        [
         "24",
         "https://m.media-amazon.com/images/M/MV5BZjhkMDM4MWItZTVjOC00ZDRhLThmYTAtM2I5NzBmNmNlMzI1XkEyXkFqcGdeQXVyNDYyMDk5MTU@._V1_UX67_CR0,0,67,98_AL_.jpg",
         "Saving Private Ryan",
         "1998",
         "R",
         "169 min",
         "Drama, War",
         "8.6",
         "Following the Normandy Landings, a group of U.S. soldiers go behind enemy lines to retrieve a paratrooper whose brothers have been killed in action.",
         "91.0",
         "Steven Spielberg",
         "Tom Hanks",
         "Matt Damon",
         "Tom Sizemore",
         "Edward Burns",
         "1235804",
         "216,540,909"
        ],
        [
         "25",
         "https://m.media-amazon.com/images/M/MV5BMTUxMzQyNjA5MF5BMl5BanBnXkFtZTYwOTU2NTY3._V1_UX67_CR0,0,67,98_AL_.jpg",
         "The Green Mile",
         "1999",
         "A",
         "189 min",
         "Crime, Drama, Fantasy",
         "8.6",
         "The lives of guards on Death Row are affected by one of their charges: a black man accused of child murder and rape, yet who has a mysterious gift.",
         "61.0",
         "Frank Darabont",
         "Tom Hanks",
         "Michael Clarke Duncan",
         "David Morse",
         "Bonnie Hunt",
         "1147794",
         "136,801,374"
        ],
        [
         "26",
         "https://m.media-amazon.com/images/M/MV5BYmJmM2Q4NmMtYThmNC00ZjRlLWEyZmItZTIwOTBlZDQ3NTQ1XkEyXkFqcGdeQXVyMTQxNzMzNDI@._V1_UX67_CR0,0,67,98_AL_.jpg",
         "La vita è bella",
         "1997",
         "U",
         "116 min",
         "Comedy, Drama, Romance",
         "8.6",
         "When an open-minded Jewish librarian and his son become victims of the Holocaust, he uses a perfect mixture of will, humor, and imagination to protect his son from the dangers around their camp.",
         "59.0",
         "Roberto Benigni",
         "Roberto Benigni",
         "Nicoletta Braschi",
         "Giorgio Cantarini",
         "Giustino Durano",
         "623629",
         "57,598,247"
        ],
        [
         "27",
         "https://m.media-amazon.com/images/M/MV5BOTUwODM5MTctZjczMi00OTk4LTg3NWUtNmVhMTAzNTNjYjcyXkEyXkFqcGdeQXVyNjU0OTQ0OTY@._V1_UX67_CR0,0,67,98_AL_.jpg",
         "Se7en",
         "1995",
         "A",
         "127 min",
         "Crime, Drama, Mystery",
         "8.6",
         "Two detectives, a rookie and a veteran, hunt a serial killer who uses the seven deadly sins as his motives.",
         "65.0",
         "David Fincher",
         "Morgan Freeman",
         "Brad Pitt",
         "Kevin Spacey",
         "Andrew Kevin Walker",
         "1445096",
         "100,125,643"
        ],
        [
         "28",
         "https://m.media-amazon.com/images/M/MV5BNjNhZTk0ZmEtNjJhMi00YzFlLWE1MmEtYzM1M2ZmMGMwMTU4XkEyXkFqcGdeQXVyNjU0OTQ0OTY@._V1_UX67_CR0,0,67,98_AL_.jpg",
         "The Silence of the Lambs",
         "1991",
         "A",
         "118 min",
         "Crime, Drama, Thriller",
         "8.6",
         "A young F.B.I. cadet must receive the help of an incarcerated and manipulative cannibal killer to help catch another serial killer, a madman who skins his victims.",
         "85.0",
         "Jonathan Demme",
         "Jodie Foster",
         "Anthony Hopkins",
         "Lawrence A. Bonney",
         "Kasi Lemmons",
         "1270197",
         "130,742,922"
        ],
        [
         "29",
         "https://m.media-amazon.com/images/M/MV5BNzVlY2MwMjktM2E4OS00Y2Y3LWE3ZjctYzhkZGM3YzA1ZWM2XkEyXkFqcGdeQXVyNzkwMjQ5NzM@._V1_UX67_CR0,0,67,98_AL_.jpg",
         "Star Wars",
         "1977",
         "UA",
         "121 min",
         "Action, Adventure, Fantasy",
         "8.6",
         "Luke Skywalker joins forces with a Jedi Knight, a cocky pilot, a Wookiee and two droids to save the galaxy from the Empire's world-destroying battle station, while also attempting to rescue Princess Leia from the mysterious Darth Vader.",
         "90.0",
         "George Lucas",
         "Mark Hamill",
         "Harrison Ford",
         "Carrie Fisher",
         "Alec Guinness",
         "1231473",
         "322,740,140"
        ],
        [
         "30",
         "https://m.media-amazon.com/images/M/MV5BYjBmYTQ1NjItZWU5MS00YjI0LTg2OTYtYmFkN2JkMmNiNWVkXkEyXkFqcGdeQXVyMTMxMTY0OTQ@._V1_UY98_CR2,0,67,98_AL_.jpg",
         "Seppuku",
         "1962",
         null,
         "133 min",
         "Action, Drama, Mystery",
         "8.6",
         "When a ronin requesting seppuku at a feudal lord's palace is told of the brutal suicide of another ronin who previously visited, he reveals how their pasts are intertwined - and in doing so challenges the clan's integrity.",
         "85.0",
         "Masaki Kobayashi",
         "Tatsuya Nakadai",
         "Akira Ishihama",
         "Shima Iwashita",
         "Tetsurô Tanba",
         "42004",
         null
        ],
        [
         "31",
         "https://m.media-amazon.com/images/M/MV5BOWE4ZDdhNmMtNzE5ZC00NzExLTlhNGMtY2ZhYjYzODEzODA1XkEyXkFqcGdeQXVyNTAyODkwOQ@@._V1_UY98_CR1,0,67,98_AL_.jpg",
         "Shichinin no samurai",
         "1954",
         "U",
         "207 min",
         "Action, Adventure, Drama",
         "8.6",
         "A poor village under attack by bandits recruits seven unemployed samurai to help them defend themselves.",
         "98.0",
         "Akira Kurosawa",
         "Toshirô Mifune",
         "Takashi Shimura",
         "Keiko Tsushima",
         "Yukiko Shimazaki",
         "315744",
         "269,061"
        ],
        [
         "32",
         "https://m.media-amazon.com/images/M/MV5BZjc4NDZhZWMtNGEzYS00ZWU2LThlM2ItNTA0YzQ0OTExMTE2XkEyXkFqcGdeQXVyNjUwMzI2NzU@._V1_UY98_CR0,0,67,98_AL_.jpg",
         "It's a Wonderful Life",
         "1946",
         "PG",
         "130 min",
         "Drama, Family, Fantasy",
         "8.6",
         "An angel is sent from Heaven to help a desperately frustrated businessman by showing him what life would have been like if he had never existed.",
         "89.0",
         "Frank Capra",
         "James Stewart",
         "Donna Reed",
         "Lionel Barrymore",
         "Thomas Mitchell",
         "405801",
         null
        ],
        [
         "33",
         "https://m.media-amazon.com/images/M/MV5BNGVjNWI4ZGUtNzE0MS00YTJmLWE0ZDctN2ZiYTk2YmI3NTYyXkEyXkFqcGdeQXVyMTkxNjUyNQ@@._V1_UX67_CR0,0,67,98_AL_.jpg",
         "Joker",
         "2019",
         "A",
         "122 min",
         "Crime, Drama, Thriller",
         "8.5",
         "In Gotham City, mentally troubled comedian Arthur Fleck is disregarded and mistreated by society. He then embarks on a downward spiral of revolution and bloody crime. This path brings him face-to-face with his alter-ego: the Joker.",
         "59.0",
         "Todd Phillips",
         "Joaquin Phoenix",
         "Robert De Niro",
         "Zazie Beetz",
         "Frances Conroy",
         "939252",
         "335,451,311"
        ],
        [
         "34",
         "https://m.media-amazon.com/images/M/MV5BOTA5NDZlZGUtMjAxOS00YTRkLTkwYmMtYWQ0NWEwZDZiNjEzXkEyXkFqcGdeQXVyMTMxODk2OTU@._V1_UX67_CR0,0,67,98_AL_.jpg",
         "Whiplash",
         "2014",
         "A",
         "106 min",
         "Drama, Music",
         "8.5",
         "A promising young drummer enrolls at a cut-throat music conservatory where his dreams of greatness are mentored by an instructor who will stop at nothing to realize a student's potential.",
         "88.0",
         "Damien Chazelle",
         "Miles Teller",
         "J.K. Simmons",
         "Melissa Benoist",
         "Paul Reiser",
         "717585",
         "13,092,000"
        ],
        [
         "35",
         "https://m.media-amazon.com/images/M/MV5BMTYxNDA3MDQwNl5BMl5BanBnXkFtZTcwNTU4Mzc1Nw@@._V1_UX67_CR0,0,67,98_AL_.jpg",
         "The Intouchables",
         "2011",
         "UA",
         "112 min",
         "Biography, Comedy, Drama",
         "8.5",
         "After he becomes a quadriplegic from a paragliding accident, an aristocrat hires a young man from the projects to be his caregiver.",
         "57.0",
         "Olivier Nakache",
         "Éric Toledano",
         "François Cluzet",
         "Omar Sy",
         "Anne Le Ny",
         "760360",
         "13,182,281"
        ],
        [
         "36",
         "https://m.media-amazon.com/images/M/MV5BMjA4NDI0MTIxNF5BMl5BanBnXkFtZTYwNTM0MzY2._V1_UX67_CR0,0,67,98_AL_.jpg",
         "The Prestige",
         "2006",
         "U",
         "130 min",
         "Drama, Mystery, Sci-Fi",
         "8.5",
         "After a tragic accident, two stage magicians engage in a battle to create the ultimate illusion while sacrificing everything they have to outwit each other.",
         "66.0",
         "Christopher Nolan",
         "Christian Bale",
         "Hugh Jackman",
         "Scarlett Johansson",
         "Michael Caine",
         "1190259",
         "53,089,891"
        ],
        [
         "37",
         "https://m.media-amazon.com/images/M/MV5BMTI1MTY2OTIxNV5BMl5BanBnXkFtZTYwNjQ4NjY3._V1_UX67_CR0,0,67,98_AL_.jpg",
         "The Departed",
         "2006",
         "A",
         "151 min",
         "Crime, Drama, Thriller",
         "8.5",
         "An undercover cop and a mole in the police attempt to identify each other while infiltrating an Irish gang in South Boston.",
         "85.0",
         "Martin Scorsese",
         "Leonardo DiCaprio",
         "Matt Damon",
         "Jack Nicholson",
         "Mark Wahlberg",
         "1189773",
         "132,384,315"
        ],
        [
         "38",
         "https://m.media-amazon.com/images/M/MV5BOWRiZDIxZjktMTA1NC00MDQ2LWEzMjUtMTliZmY3NjQ3ODJiXkEyXkFqcGdeQXVyNjU0OTQ0OTY@._V1_UY98_CR2,0,67,98_AL_.jpg",
         "The Pianist",
         "2002",
         "R",
         "150 min",
         "Biography, Drama, Music",
         "8.5",
         "A Polish Jewish musician struggles to survive the destruction of the Warsaw ghetto of World War II.",
         "85.0",
         "Roman Polanski",
         "Adrien Brody",
         "Thomas Kretschmann",
         "Frank Finlay",
         "Emilia Fox",
         "729603",
         "32,572,577"
        ],
        [
         "39",
         "https://m.media-amazon.com/images/M/MV5BMDliMmNhNDEtODUyOS00MjNlLTgxODEtN2U3NzIxMGVkZTA1L2ltYWdlXkEyXkFqcGdeQXVyNjU0OTQ0OTY@._V1_UX67_CR0,0,67,98_AL_.jpg",
         "Gladiator",
         "2000",
         "UA",
         "155 min",
         "Action, Adventure, Drama",
         "8.5",
         "A former Roman General sets out to exact vengeance against the corrupt emperor who murdered his family and sent him into slavery.",
         "67.0",
         "Ridley Scott",
         "Russell Crowe",
         "Joaquin Phoenix",
         "Connie Nielsen",
         "Oliver Reed",
         "1341460",
         "187,705,427"
        ],
        [
         "40",
         "https://m.media-amazon.com/images/M/MV5BZjA0MTM4MTQtNzY5MC00NzY3LWI1ZTgtYzcxMjkyMzU4MDZiXkEyXkFqcGdeQXVyNDYyMDk5MTU@._V1_UX67_CR0,0,67,98_AL_.jpg",
         "American History X",
         "1998",
         "R",
         "119 min",
         "Drama",
         "8.5",
         "A former neo-nazi skinhead tries to prevent his younger brother from going down the same wrong path that he did.",
         "62.0",
         "Tony Kaye",
         "Edward Norton",
         "Edward Furlong",
         "Beverly D'Angelo",
         "Jennifer Lien",
         "1034705",
         "6,719,864"
        ],
        [
         "41",
         "https://m.media-amazon.com/images/M/MV5BYTViNjMyNmUtNDFkNC00ZDRlLThmMDUtZDU2YWE4NGI2ZjVmXkEyXkFqcGdeQXVyNjU0OTQ0OTY@._V1_UX67_CR0,0,67,98_AL_.jpg",
         "The Usual Suspects",
         "1995",
         "A",
         "106 min",
         "Crime, Mystery, Thriller",
         "8.5",
         "A sole survivor tells of the twisty events leading up to a horrific gun battle on a boat, which began when five criminals met at a seemingly random police lineup.",
         "77.0",
         "Bryan Singer",
         "Kevin Spacey",
         "Gabriel Byrne",
         "Chazz Palminteri",
         "Stephen Baldwin",
         "991208",
         "23,341,568"
        ],
        [
         "42",
         "https://m.media-amazon.com/images/M/MV5BODllNWE0MmEtYjUwZi00ZjY3LThmNmQtZjZlMjI2YTZjYmQ0XkEyXkFqcGdeQXVyNTc1NTQxODI@._V1_UX67_CR0,0,67,98_AL_.jpg",
         "Léon",
         "1994",
         "A",
         "110 min",
         "Action, Crime, Drama",
         "8.5",
         "Mathilda, a 12-year-old girl, is reluctantly taken in by Léon, a professional assassin, after her family is murdered. An unusual relationship forms as she becomes his protégée and learns the assassin's trade.",
         "64.0",
         "Luc Besson",
         "Jean Reno",
         "Gary Oldman",
         "Natalie Portman",
         "Danny Aiello",
         "1035236",
         "19,501,238"
        ],
        [
         "43",
         "https://m.media-amazon.com/images/M/MV5BYTYxNGMyZTYtMjE3MS00MzNjLWFjNmYtMDk3N2FmM2JiM2M1XkEyXkFqcGdeQXVyNjY5NDU4NzI@._V1_UX67_CR0,0,67,98_AL_.jpg",
         "The Lion King",
         "1994",
         "U",
         "88 min",
         "Animation, Adventure, Drama",
         "8.5",
         "Lion prince Simba and his father are targeted by his bitter uncle, who wants to ascend the throne himself.",
         "88.0",
         "Roger Allers",
         "Rob Minkoff",
         "Matthew Broderick",
         "Jeremy Irons",
         "James Earl Jones",
         "942045",
         "422,783,777"
        ],
        [
         "44",
         "https://m.media-amazon.com/images/M/MV5BMGU2NzRmZjUtOGUxYS00ZjdjLWEwZWItY2NlM2JhNjkxNTFmXkEyXkFqcGdeQXVyNjU0OTQ0OTY@._V1_UX67_CR0,0,67,98_AL_.jpg",
         "Terminator 2: Judgment Day",
         "1991",
         "U",
         "137 min",
         "Action, Sci-Fi",
         "8.5",
         "A cyborg, identical to the one who failed to kill Sarah Connor, must now protect her teenage son, John Connor, from a more advanced and powerful cyborg.",
         "75.0",
         "James Cameron",
         "Arnold Schwarzenegger",
         "Linda Hamilton",
         "Edward Furlong",
         "Robert Patrick",
         "995506",
         "204,843,350"
        ],
        [
         "45",
         "https://m.media-amazon.com/images/M/MV5BM2FhYjEyYmYtMDI1Yy00YTdlLWI2NWQtYmEzNzAxOGY1NjY2XkEyXkFqcGdeQXVyNTA3NTIyNDg@._V1_UX67_CR0,0,67,98_AL_.jpg",
         "Nuovo Cinema Paradiso",
         "1988",
         "U",
         "155 min",
         "Drama, Romance",
         "8.5",
         "A filmmaker recalls his childhood when falling in love with the pictures at the cinema of his home village and forms a deep friendship with the cinema's projectionist.",
         "80.0",
         "Giuseppe Tornatore",
         "Philippe Noiret",
         "Enzo Cannavale",
         "Antonella Attili",
         "Isa Danieli",
         "230763",
         "11,990,401"
        ],
        [
         "46",
         "https://m.media-amazon.com/images/M/MV5BZmY2NjUzNDQtNTgxNC00M2Q4LTljOWQtMjNjNDBjNWUxNmJlXkEyXkFqcGdeQXVyNTA4NzY1MzY@._V1_UX67_CR0,0,67,98_AL_.jpg",
         "Hotaru no haka",
         "1988",
         "U",
         "89 min",
         "Animation, Drama, War",
         "8.5",
         "A young boy and his little sister struggle to survive in Japan during World War II.",
         "94.0",
         "Isao Takahata",
         "Tsutomu Tatsumi",
         "Ayano Shiraishi",
         "Akemi Yamaguchi",
         "Yoshiko Shinohara",
         "235231",
         null
        ],
        [
         "47",
         "https://m.media-amazon.com/images/M/MV5BZmU0M2Y1OGUtZjIxNi00ZjBkLTg1MjgtOWIyNThiZWIwYjRiXkEyXkFqcGdeQXVyMTQxNzMzNDI@._V1_UX67_CR0,0,67,98_AL_.jpg",
         "Back to the Future",
         "1985",
         "U",
         "116 min",
         "Adventure, Comedy, Sci-Fi",
         "8.5",
         "Marty McFly, a 17-year-old high school student, is accidentally sent thirty years into the past in a time-traveling DeLorean invented by his close friend, the eccentric scientist Doc Brown.",
         "87.0",
         "Robert Zemeckis",
         "Michael J. Fox",
         "Christopher Lloyd",
         "Lea Thompson",
         "Crispin Glover",
         "1058081",
         "210,609,762"
        ],
        [
         "48",
         "https://m.media-amazon.com/images/M/MV5BZGI5MjBmYzYtMzJhZi00NGI1LTk3MzItYjBjMzcxM2U3MDdiXkEyXkFqcGdeQXVyNzkwMjQ5NzM@._V1_UX67_CR0,0,67,98_AL_.jpg",
         "Once Upon a Time in the West",
         "1968",
         "U",
         "165 min",
         "Western",
         "8.5",
         "A mysterious stranger with a harmonica joins forces with a notorious desperado to protect a beautiful widow from a ruthless assassin working for the railroad.",
         "80.0",
         "Sergio Leone",
         "Henry Fonda",
         "Charles Bronson",
         "Claudia Cardinale",
         "Jason Robards",
         "302844",
         "5,321,508"
        ],
        [
         "49",
         "https://m.media-amazon.com/images/M/MV5BNTQwNDM1YzItNDAxZC00NWY2LTk0M2UtNDIwNWI5OGUyNWUxXkEyXkFqcGdeQXVyNzkwMjQ5NzM@._V1_UX67_CR0,0,67,98_AL_.jpg",
         "Psycho",
         "1960",
         "A",
         "109 min",
         "Horror, Mystery, Thriller",
         "8.5",
         "A Phoenix secretary embezzles $40,000 from her employer's client, goes on the run, and checks into a remote motel run by a young man under the domination of his mother.",
         "97.0",
         "Alfred Hitchcock",
         "Anthony Perkins",
         "Janet Leigh",
         "Vera Miles",
         "John Gavin",
         "604211",
         "32,000,000"
        ]
       ],
       "shape": {
        "columns": 16,
        "rows": 1000
       }
      },
      "text/html": [
       "<div>\n",
       "<style scoped>\n",
       "    .dataframe tbody tr th:only-of-type {\n",
       "        vertical-align: middle;\n",
       "    }\n",
       "\n",
       "    .dataframe tbody tr th {\n",
       "        vertical-align: top;\n",
       "    }\n",
       "\n",
       "    .dataframe thead th {\n",
       "        text-align: right;\n",
       "    }\n",
       "</style>\n",
       "<table border=\"1\" class=\"dataframe\">\n",
       "  <thead>\n",
       "    <tr style=\"text-align: right;\">\n",
       "      <th></th>\n",
       "      <th>Poster_Link</th>\n",
       "      <th>Series_Title</th>\n",
       "      <th>Released_Year</th>\n",
       "      <th>Certificate</th>\n",
       "      <th>Runtime</th>\n",
       "      <th>Genre</th>\n",
       "      <th>IMDB_Rating</th>\n",
       "      <th>Overview</th>\n",
       "      <th>Meta_score</th>\n",
       "      <th>Director</th>\n",
       "      <th>Star1</th>\n",
       "      <th>Star2</th>\n",
       "      <th>Star3</th>\n",
       "      <th>Star4</th>\n",
       "      <th>No_of_Votes</th>\n",
       "      <th>Gross</th>\n",
       "    </tr>\n",
       "  </thead>\n",
       "  <tbody>\n",
       "    <tr>\n",
       "      <th>0</th>\n",
       "      <td>https://m.media-amazon.com/images/M/MV5BMDFkYT...</td>\n",
       "      <td>The Shawshank Redemption</td>\n",
       "      <td>1994</td>\n",
       "      <td>A</td>\n",
       "      <td>142 min</td>\n",
       "      <td>Drama</td>\n",
       "      <td>9.3</td>\n",
       "      <td>Two imprisoned men bond over a number of years...</td>\n",
       "      <td>80.0</td>\n",
       "      <td>Frank Darabont</td>\n",
       "      <td>Tim Robbins</td>\n",
       "      <td>Morgan Freeman</td>\n",
       "      <td>Bob Gunton</td>\n",
       "      <td>William Sadler</td>\n",
       "      <td>2343110</td>\n",
       "      <td>28,341,469</td>\n",
       "    </tr>\n",
       "    <tr>\n",
       "      <th>1</th>\n",
       "      <td>https://m.media-amazon.com/images/M/MV5BM2MyNj...</td>\n",
       "      <td>The Godfather</td>\n",
       "      <td>1972</td>\n",
       "      <td>A</td>\n",
       "      <td>175 min</td>\n",
       "      <td>Crime, Drama</td>\n",
       "      <td>9.2</td>\n",
       "      <td>An organized crime dynasty's aging patriarch t...</td>\n",
       "      <td>100.0</td>\n",
       "      <td>Francis Ford Coppola</td>\n",
       "      <td>Marlon Brando</td>\n",
       "      <td>Al Pacino</td>\n",
       "      <td>James Caan</td>\n",
       "      <td>Diane Keaton</td>\n",
       "      <td>1620367</td>\n",
       "      <td>134,966,411</td>\n",
       "    </tr>\n",
       "    <tr>\n",
       "      <th>2</th>\n",
       "      <td>https://m.media-amazon.com/images/M/MV5BMTMxNT...</td>\n",
       "      <td>The Dark Knight</td>\n",
       "      <td>2008</td>\n",
       "      <td>UA</td>\n",
       "      <td>152 min</td>\n",
       "      <td>Action, Crime, Drama</td>\n",
       "      <td>9.0</td>\n",
       "      <td>When the menace known as the Joker wreaks havo...</td>\n",
       "      <td>84.0</td>\n",
       "      <td>Christopher Nolan</td>\n",
       "      <td>Christian Bale</td>\n",
       "      <td>Heath Ledger</td>\n",
       "      <td>Aaron Eckhart</td>\n",
       "      <td>Michael Caine</td>\n",
       "      <td>2303232</td>\n",
       "      <td>534,858,444</td>\n",
       "    </tr>\n",
       "    <tr>\n",
       "      <th>3</th>\n",
       "      <td>https://m.media-amazon.com/images/M/MV5BMWMwMG...</td>\n",
       "      <td>The Godfather: Part II</td>\n",
       "      <td>1974</td>\n",
       "      <td>A</td>\n",
       "      <td>202 min</td>\n",
       "      <td>Crime, Drama</td>\n",
       "      <td>9.0</td>\n",
       "      <td>The early life and career of Vito Corleone in ...</td>\n",
       "      <td>90.0</td>\n",
       "      <td>Francis Ford Coppola</td>\n",
       "      <td>Al Pacino</td>\n",
       "      <td>Robert De Niro</td>\n",
       "      <td>Robert Duvall</td>\n",
       "      <td>Diane Keaton</td>\n",
       "      <td>1129952</td>\n",
       "      <td>57,300,000</td>\n",
       "    </tr>\n",
       "    <tr>\n",
       "      <th>4</th>\n",
       "      <td>https://m.media-amazon.com/images/M/MV5BMWU4N2...</td>\n",
       "      <td>12 Angry Men</td>\n",
       "      <td>1957</td>\n",
       "      <td>U</td>\n",
       "      <td>96 min</td>\n",
       "      <td>Crime, Drama</td>\n",
       "      <td>9.0</td>\n",
       "      <td>A jury holdout attempts to prevent a miscarria...</td>\n",
       "      <td>96.0</td>\n",
       "      <td>Sidney Lumet</td>\n",
       "      <td>Henry Fonda</td>\n",
       "      <td>Lee J. Cobb</td>\n",
       "      <td>Martin Balsam</td>\n",
       "      <td>John Fiedler</td>\n",
       "      <td>689845</td>\n",
       "      <td>4,360,000</td>\n",
       "    </tr>\n",
       "    <tr>\n",
       "      <th>...</th>\n",
       "      <td>...</td>\n",
       "      <td>...</td>\n",
       "      <td>...</td>\n",
       "      <td>...</td>\n",
       "      <td>...</td>\n",
       "      <td>...</td>\n",
       "      <td>...</td>\n",
       "      <td>...</td>\n",
       "      <td>...</td>\n",
       "      <td>...</td>\n",
       "      <td>...</td>\n",
       "      <td>...</td>\n",
       "      <td>...</td>\n",
       "      <td>...</td>\n",
       "      <td>...</td>\n",
       "      <td>...</td>\n",
       "    </tr>\n",
       "    <tr>\n",
       "      <th>995</th>\n",
       "      <td>https://m.media-amazon.com/images/M/MV5BNGEwMT...</td>\n",
       "      <td>Breakfast at Tiffany's</td>\n",
       "      <td>1961</td>\n",
       "      <td>A</td>\n",
       "      <td>115 min</td>\n",
       "      <td>Comedy, Drama, Romance</td>\n",
       "      <td>7.6</td>\n",
       "      <td>A young New York socialite becomes interested ...</td>\n",
       "      <td>76.0</td>\n",
       "      <td>Blake Edwards</td>\n",
       "      <td>Audrey Hepburn</td>\n",
       "      <td>George Peppard</td>\n",
       "      <td>Patricia Neal</td>\n",
       "      <td>Buddy Ebsen</td>\n",
       "      <td>166544</td>\n",
       "      <td>NaN</td>\n",
       "    </tr>\n",
       "    <tr>\n",
       "      <th>996</th>\n",
       "      <td>https://m.media-amazon.com/images/M/MV5BODk3Yj...</td>\n",
       "      <td>Giant</td>\n",
       "      <td>1956</td>\n",
       "      <td>G</td>\n",
       "      <td>201 min</td>\n",
       "      <td>Drama, Western</td>\n",
       "      <td>7.6</td>\n",
       "      <td>Sprawling epic covering the life of a Texas ca...</td>\n",
       "      <td>84.0</td>\n",
       "      <td>George Stevens</td>\n",
       "      <td>Elizabeth Taylor</td>\n",
       "      <td>Rock Hudson</td>\n",
       "      <td>James Dean</td>\n",
       "      <td>Carroll Baker</td>\n",
       "      <td>34075</td>\n",
       "      <td>NaN</td>\n",
       "    </tr>\n",
       "    <tr>\n",
       "      <th>997</th>\n",
       "      <td>https://m.media-amazon.com/images/M/MV5BM2U3Yz...</td>\n",
       "      <td>From Here to Eternity</td>\n",
       "      <td>1953</td>\n",
       "      <td>Passed</td>\n",
       "      <td>118 min</td>\n",
       "      <td>Drama, Romance, War</td>\n",
       "      <td>7.6</td>\n",
       "      <td>In Hawaii in 1941, a private is cruelly punish...</td>\n",
       "      <td>85.0</td>\n",
       "      <td>Fred Zinnemann</td>\n",
       "      <td>Burt Lancaster</td>\n",
       "      <td>Montgomery Clift</td>\n",
       "      <td>Deborah Kerr</td>\n",
       "      <td>Donna Reed</td>\n",
       "      <td>43374</td>\n",
       "      <td>30,500,000</td>\n",
       "    </tr>\n",
       "    <tr>\n",
       "      <th>998</th>\n",
       "      <td>https://m.media-amazon.com/images/M/MV5BZTBmMj...</td>\n",
       "      <td>Lifeboat</td>\n",
       "      <td>1944</td>\n",
       "      <td>NaN</td>\n",
       "      <td>97 min</td>\n",
       "      <td>Drama, War</td>\n",
       "      <td>7.6</td>\n",
       "      <td>Several survivors of a torpedoed merchant ship...</td>\n",
       "      <td>78.0</td>\n",
       "      <td>Alfred Hitchcock</td>\n",
       "      <td>Tallulah Bankhead</td>\n",
       "      <td>John Hodiak</td>\n",
       "      <td>Walter Slezak</td>\n",
       "      <td>William Bendix</td>\n",
       "      <td>26471</td>\n",
       "      <td>NaN</td>\n",
       "    </tr>\n",
       "    <tr>\n",
       "      <th>999</th>\n",
       "      <td>https://m.media-amazon.com/images/M/MV5BMTY5OD...</td>\n",
       "      <td>The 39 Steps</td>\n",
       "      <td>1935</td>\n",
       "      <td>NaN</td>\n",
       "      <td>86 min</td>\n",
       "      <td>Crime, Mystery, Thriller</td>\n",
       "      <td>7.6</td>\n",
       "      <td>A man in London tries to help a counter-espion...</td>\n",
       "      <td>93.0</td>\n",
       "      <td>Alfred Hitchcock</td>\n",
       "      <td>Robert Donat</td>\n",
       "      <td>Madeleine Carroll</td>\n",
       "      <td>Lucie Mannheim</td>\n",
       "      <td>Godfrey Tearle</td>\n",
       "      <td>51853</td>\n",
       "      <td>NaN</td>\n",
       "    </tr>\n",
       "  </tbody>\n",
       "</table>\n",
       "<p>1000 rows × 16 columns</p>\n",
       "</div>"
      ],
      "text/plain": [
       "                                           Poster_Link  \\\n",
       "0    https://m.media-amazon.com/images/M/MV5BMDFkYT...   \n",
       "1    https://m.media-amazon.com/images/M/MV5BM2MyNj...   \n",
       "2    https://m.media-amazon.com/images/M/MV5BMTMxNT...   \n",
       "3    https://m.media-amazon.com/images/M/MV5BMWMwMG...   \n",
       "4    https://m.media-amazon.com/images/M/MV5BMWU4N2...   \n",
       "..                                                 ...   \n",
       "995  https://m.media-amazon.com/images/M/MV5BNGEwMT...   \n",
       "996  https://m.media-amazon.com/images/M/MV5BODk3Yj...   \n",
       "997  https://m.media-amazon.com/images/M/MV5BM2U3Yz...   \n",
       "998  https://m.media-amazon.com/images/M/MV5BZTBmMj...   \n",
       "999  https://m.media-amazon.com/images/M/MV5BMTY5OD...   \n",
       "\n",
       "                 Series_Title Released_Year Certificate  Runtime  \\\n",
       "0    The Shawshank Redemption          1994           A  142 min   \n",
       "1               The Godfather          1972           A  175 min   \n",
       "2             The Dark Knight          2008          UA  152 min   \n",
       "3      The Godfather: Part II          1974           A  202 min   \n",
       "4                12 Angry Men          1957           U   96 min   \n",
       "..                        ...           ...         ...      ...   \n",
       "995    Breakfast at Tiffany's          1961           A  115 min   \n",
       "996                     Giant          1956           G  201 min   \n",
       "997     From Here to Eternity          1953      Passed  118 min   \n",
       "998                  Lifeboat          1944         NaN   97 min   \n",
       "999              The 39 Steps          1935         NaN   86 min   \n",
       "\n",
       "                        Genre  IMDB_Rating  \\\n",
       "0                       Drama          9.3   \n",
       "1                Crime, Drama          9.2   \n",
       "2        Action, Crime, Drama          9.0   \n",
       "3                Crime, Drama          9.0   \n",
       "4                Crime, Drama          9.0   \n",
       "..                        ...          ...   \n",
       "995    Comedy, Drama, Romance          7.6   \n",
       "996            Drama, Western          7.6   \n",
       "997       Drama, Romance, War          7.6   \n",
       "998                Drama, War          7.6   \n",
       "999  Crime, Mystery, Thriller          7.6   \n",
       "\n",
       "                                              Overview  Meta_score  \\\n",
       "0    Two imprisoned men bond over a number of years...        80.0   \n",
       "1    An organized crime dynasty's aging patriarch t...       100.0   \n",
       "2    When the menace known as the Joker wreaks havo...        84.0   \n",
       "3    The early life and career of Vito Corleone in ...        90.0   \n",
       "4    A jury holdout attempts to prevent a miscarria...        96.0   \n",
       "..                                                 ...         ...   \n",
       "995  A young New York socialite becomes interested ...        76.0   \n",
       "996  Sprawling epic covering the life of a Texas ca...        84.0   \n",
       "997  In Hawaii in 1941, a private is cruelly punish...        85.0   \n",
       "998  Several survivors of a torpedoed merchant ship...        78.0   \n",
       "999  A man in London tries to help a counter-espion...        93.0   \n",
       "\n",
       "                 Director              Star1              Star2  \\\n",
       "0          Frank Darabont        Tim Robbins     Morgan Freeman   \n",
       "1    Francis Ford Coppola      Marlon Brando          Al Pacino   \n",
       "2       Christopher Nolan     Christian Bale       Heath Ledger   \n",
       "3    Francis Ford Coppola          Al Pacino     Robert De Niro   \n",
       "4            Sidney Lumet        Henry Fonda        Lee J. Cobb   \n",
       "..                    ...                ...                ...   \n",
       "995         Blake Edwards     Audrey Hepburn     George Peppard   \n",
       "996        George Stevens   Elizabeth Taylor        Rock Hudson   \n",
       "997        Fred Zinnemann     Burt Lancaster   Montgomery Clift   \n",
       "998      Alfred Hitchcock  Tallulah Bankhead        John Hodiak   \n",
       "999      Alfred Hitchcock       Robert Donat  Madeleine Carroll   \n",
       "\n",
       "              Star3           Star4  No_of_Votes        Gross  \n",
       "0        Bob Gunton  William Sadler      2343110   28,341,469  \n",
       "1        James Caan    Diane Keaton      1620367  134,966,411  \n",
       "2     Aaron Eckhart   Michael Caine      2303232  534,858,444  \n",
       "3     Robert Duvall    Diane Keaton      1129952   57,300,000  \n",
       "4     Martin Balsam    John Fiedler       689845    4,360,000  \n",
       "..              ...             ...          ...          ...  \n",
       "995   Patricia Neal     Buddy Ebsen       166544          NaN  \n",
       "996      James Dean   Carroll Baker        34075          NaN  \n",
       "997    Deborah Kerr      Donna Reed        43374   30,500,000  \n",
       "998   Walter Slezak  William Bendix        26471          NaN  \n",
       "999  Lucie Mannheim  Godfrey Tearle        51853          NaN  \n",
       "\n",
       "[1000 rows x 16 columns]"
      ]
     },
     "execution_count": 3,
     "metadata": {},
     "output_type": "execute_result"
    }
   ],
   "source": [
    "df = pd.read_csv(r\"DataSets\\imdb_top_1000.csv\")\n",
    "df"
   ]
  },
  {
   "cell_type": "code",
   "execution_count": 4,
   "metadata": {},
   "outputs": [
    {
     "name": "stdout",
     "output_type": "stream",
     "text": [
      "<class 'pandas.core.frame.DataFrame'>\n",
      "RangeIndex: 1000 entries, 0 to 999\n",
      "Data columns (total 16 columns):\n",
      " #   Column         Non-Null Count  Dtype  \n",
      "---  ------         --------------  -----  \n",
      " 0   Poster_Link    1000 non-null   object \n",
      " 1   Series_Title   1000 non-null   object \n",
      " 2   Released_Year  1000 non-null   object \n",
      " 3   Certificate    899 non-null    object \n",
      " 4   Runtime        1000 non-null   object \n",
      " 5   Genre          1000 non-null   object \n",
      " 6   IMDB_Rating    1000 non-null   float64\n",
      " 7   Overview       1000 non-null   object \n",
      " 8   Meta_score     843 non-null    float64\n",
      " 9   Director       1000 non-null   object \n",
      " 10  Star1          1000 non-null   object \n",
      " 11  Star2          1000 non-null   object \n",
      " 12  Star3          1000 non-null   object \n",
      " 13  Star4          1000 non-null   object \n",
      " 14  No_of_Votes    1000 non-null   int64  \n",
      " 15  Gross          831 non-null    object \n",
      "dtypes: float64(2), int64(1), object(13)\n",
      "memory usage: 125.1+ KB\n"
     ]
    }
   ],
   "source": [
    "df.info()"
   ]
  },
  {
   "cell_type": "code",
   "execution_count": 5,
   "metadata": {},
   "outputs": [
    {
     "data": {
      "text/plain": [
       "Index(['Poster_Link', 'Series_Title', 'Released_Year', 'Certificate',\n",
       "       'Runtime', 'Genre', 'IMDB_Rating', 'Overview', 'Meta_score', 'Director',\n",
       "       'Star1', 'Star2', 'Star3', 'Star4', 'No_of_Votes', 'Gross'],\n",
       "      dtype='object')"
      ]
     },
     "execution_count": 5,
     "metadata": {},
     "output_type": "execute_result"
    }
   ],
   "source": [
    "df.columns"
   ]
  },
  {
   "cell_type": "code",
   "execution_count": 6,
   "metadata": {},
   "outputs": [
    {
     "data": {
      "text/plain": [
       "np.int64(0)"
      ]
     },
     "execution_count": 6,
     "metadata": {},
     "output_type": "execute_result"
    }
   ],
   "source": [
    "df.duplicated().sum()"
   ]
  },
  {
   "cell_type": "code",
   "execution_count": 7,
   "metadata": {},
   "outputs": [],
   "source": [
    "unwanted_cols = [\"Poster_Link\",\"Released_Year\",\"Certificate\",\"Runtime\",\"Genre\",\"IMDB_Rating\",\"Meta_score\",\"Director\",\"Star1\",\"Star2\",\"Star3\",\"Star4\",\"No_of_Votes\",\"Gross\"]"
   ]
  },
  {
   "cell_type": "code",
   "execution_count": 8,
   "metadata": {},
   "outputs": [
    {
     "data": {
      "application/vnd.microsoft.datawrangler.viewer.v0+json": {
       "columns": [
        {
         "name": "index",
         "rawType": "int64",
         "type": "integer"
        },
        {
         "name": "Series_Title",
         "rawType": "object",
         "type": "string"
        },
        {
         "name": "Overview",
         "rawType": "object",
         "type": "string"
        }
       ],
       "ref": "4f1a62df-e095-4972-91d8-69a1ce44ba13",
       "rows": [
        [
         "0",
         "The Shawshank Redemption",
         "Two imprisoned men bond over a number of years, finding solace and eventual redemption through acts of common decency."
        ],
        [
         "1",
         "The Godfather",
         "An organized crime dynasty's aging patriarch transfers control of his clandestine empire to his reluctant son."
        ],
        [
         "2",
         "The Dark Knight",
         "When the menace known as the Joker wreaks havoc and chaos on the people of Gotham, Batman must accept one of the greatest psychological and physical tests of his ability to fight injustice."
        ],
        [
         "3",
         "The Godfather: Part II",
         "The early life and career of Vito Corleone in 1920s New York City is portrayed, while his son, Michael, expands and tightens his grip on the family crime syndicate."
        ],
        [
         "4",
         "12 Angry Men",
         "A jury holdout attempts to prevent a miscarriage of justice by forcing his colleagues to reconsider the evidence."
        ],
        [
         "5",
         "The Lord of the Rings: The Return of the King",
         "Gandalf and Aragorn lead the World of Men against Sauron's army to draw his gaze from Frodo and Sam as they approach Mount Doom with the One Ring."
        ],
        [
         "6",
         "Pulp Fiction",
         "The lives of two mob hitmen, a boxer, a gangster and his wife, and a pair of diner bandits intertwine in four tales of violence and redemption."
        ],
        [
         "7",
         "Schindler's List",
         "In German-occupied Poland during World War II, industrialist Oskar Schindler gradually becomes concerned for his Jewish workforce after witnessing their persecution by the Nazis."
        ],
        [
         "8",
         "Inception",
         "A thief who steals corporate secrets through the use of dream-sharing technology is given the inverse task of planting an idea into the mind of a C.E.O."
        ],
        [
         "9",
         "Fight Club",
         "An insomniac office worker and a devil-may-care soapmaker form an underground fight club that evolves into something much, much more."
        ],
        [
         "10",
         "The Lord of the Rings: The Fellowship of the Ring",
         "A meek Hobbit from the Shire and eight companions set out on a journey to destroy the powerful One Ring and save Middle-earth from the Dark Lord Sauron."
        ],
        [
         "11",
         "Forrest Gump",
         "The presidencies of Kennedy and Johnson, the events of Vietnam, Watergate and other historical events unfold through the perspective of an Alabama man with an IQ of 75, whose only desire is to be reunited with his childhood sweetheart."
        ],
        [
         "12",
         "Il buono, il brutto, il cattivo",
         "A bounty hunting scam joins two men in an uneasy alliance against a third in a race to find a fortune in gold buried in a remote cemetery."
        ],
        [
         "13",
         "The Lord of the Rings: The Two Towers",
         "While Frodo and Sam edge closer to Mordor with the help of the shifty Gollum, the divided fellowship makes a stand against Sauron's new ally, Saruman, and his hordes of Isengard."
        ],
        [
         "14",
         "The Matrix",
         "When a beautiful stranger leads computer hacker Neo to a forbidding underworld, he discovers the shocking truth--the life he knows is the elaborate deception of an evil cyber-intelligence."
        ],
        [
         "15",
         "Goodfellas",
         "The story of Henry Hill and his life in the mob, covering his relationship with his wife Karen Hill and his mob partners Jimmy Conway and Tommy DeVito in the Italian-American crime syndicate."
        ],
        [
         "16",
         "Star Wars: Episode V - The Empire Strikes Back",
         "After the Rebels are brutally overpowered by the Empire on the ice planet Hoth, Luke Skywalker begins Jedi training with Yoda, while his friends are pursued by Darth Vader and a bounty hunter named Boba Fett all over the galaxy."
        ],
        [
         "17",
         "One Flew Over the Cuckoo's Nest",
         "A criminal pleads insanity and is admitted to a mental institution, where he rebels against the oppressive nurse and rallies up the scared patients."
        ],
        [
         "18",
         "Hamilton",
         "The real life of one of America's foremost founding fathers and first Secretary of the Treasury, Alexander Hamilton. Captured live on Broadway from the Richard Rodgers Theater with the original Broadway cast."
        ],
        [
         "19",
         "Gisaengchung",
         "Greed and class discrimination threaten the newly formed symbiotic relationship between the wealthy Park family and the destitute Kim clan."
        ],
        [
         "20",
         "Soorarai Pottru",
         "Nedumaaran Rajangam \"Maara\" sets out to make the common man fly and in the process takes on the world's most capital intensive industry and several enemies who stand in his way."
        ],
        [
         "21",
         "Interstellar",
         "A team of explorers travel through a wormhole in space in an attempt to ensure humanity's survival."
        ],
        [
         "22",
         "Cidade de Deus",
         "In the slums of Rio, two kids' paths diverge as one struggles to become a photographer and the other a kingpin."
        ],
        [
         "23",
         "Sen to Chihiro no kamikakushi",
         "During her family's move to the suburbs, a sullen 10-year-old girl wanders into a world ruled by gods, witches, and spirits, and where humans are changed into beasts."
        ],
        [
         "24",
         "Saving Private Ryan",
         "Following the Normandy Landings, a group of U.S. soldiers go behind enemy lines to retrieve a paratrooper whose brothers have been killed in action."
        ],
        [
         "25",
         "The Green Mile",
         "The lives of guards on Death Row are affected by one of their charges: a black man accused of child murder and rape, yet who has a mysterious gift."
        ],
        [
         "26",
         "La vita è bella",
         "When an open-minded Jewish librarian and his son become victims of the Holocaust, he uses a perfect mixture of will, humor, and imagination to protect his son from the dangers around their camp."
        ],
        [
         "27",
         "Se7en",
         "Two detectives, a rookie and a veteran, hunt a serial killer who uses the seven deadly sins as his motives."
        ],
        [
         "28",
         "The Silence of the Lambs",
         "A young F.B.I. cadet must receive the help of an incarcerated and manipulative cannibal killer to help catch another serial killer, a madman who skins his victims."
        ],
        [
         "29",
         "Star Wars",
         "Luke Skywalker joins forces with a Jedi Knight, a cocky pilot, a Wookiee and two droids to save the galaxy from the Empire's world-destroying battle station, while also attempting to rescue Princess Leia from the mysterious Darth Vader."
        ],
        [
         "30",
         "Seppuku",
         "When a ronin requesting seppuku at a feudal lord's palace is told of the brutal suicide of another ronin who previously visited, he reveals how their pasts are intertwined - and in doing so challenges the clan's integrity."
        ],
        [
         "31",
         "Shichinin no samurai",
         "A poor village under attack by bandits recruits seven unemployed samurai to help them defend themselves."
        ],
        [
         "32",
         "It's a Wonderful Life",
         "An angel is sent from Heaven to help a desperately frustrated businessman by showing him what life would have been like if he had never existed."
        ],
        [
         "33",
         "Joker",
         "In Gotham City, mentally troubled comedian Arthur Fleck is disregarded and mistreated by society. He then embarks on a downward spiral of revolution and bloody crime. This path brings him face-to-face with his alter-ego: the Joker."
        ],
        [
         "34",
         "Whiplash",
         "A promising young drummer enrolls at a cut-throat music conservatory where his dreams of greatness are mentored by an instructor who will stop at nothing to realize a student's potential."
        ],
        [
         "35",
         "The Intouchables",
         "After he becomes a quadriplegic from a paragliding accident, an aristocrat hires a young man from the projects to be his caregiver."
        ],
        [
         "36",
         "The Prestige",
         "After a tragic accident, two stage magicians engage in a battle to create the ultimate illusion while sacrificing everything they have to outwit each other."
        ],
        [
         "37",
         "The Departed",
         "An undercover cop and a mole in the police attempt to identify each other while infiltrating an Irish gang in South Boston."
        ],
        [
         "38",
         "The Pianist",
         "A Polish Jewish musician struggles to survive the destruction of the Warsaw ghetto of World War II."
        ],
        [
         "39",
         "Gladiator",
         "A former Roman General sets out to exact vengeance against the corrupt emperor who murdered his family and sent him into slavery."
        ],
        [
         "40",
         "American History X",
         "A former neo-nazi skinhead tries to prevent his younger brother from going down the same wrong path that he did."
        ],
        [
         "41",
         "The Usual Suspects",
         "A sole survivor tells of the twisty events leading up to a horrific gun battle on a boat, which began when five criminals met at a seemingly random police lineup."
        ],
        [
         "42",
         "Léon",
         "Mathilda, a 12-year-old girl, is reluctantly taken in by Léon, a professional assassin, after her family is murdered. An unusual relationship forms as she becomes his protégée and learns the assassin's trade."
        ],
        [
         "43",
         "The Lion King",
         "Lion prince Simba and his father are targeted by his bitter uncle, who wants to ascend the throne himself."
        ],
        [
         "44",
         "Terminator 2: Judgment Day",
         "A cyborg, identical to the one who failed to kill Sarah Connor, must now protect her teenage son, John Connor, from a more advanced and powerful cyborg."
        ],
        [
         "45",
         "Nuovo Cinema Paradiso",
         "A filmmaker recalls his childhood when falling in love with the pictures at the cinema of his home village and forms a deep friendship with the cinema's projectionist."
        ],
        [
         "46",
         "Hotaru no haka",
         "A young boy and his little sister struggle to survive in Japan during World War II."
        ],
        [
         "47",
         "Back to the Future",
         "Marty McFly, a 17-year-old high school student, is accidentally sent thirty years into the past in a time-traveling DeLorean invented by his close friend, the eccentric scientist Doc Brown."
        ],
        [
         "48",
         "Once Upon a Time in the West",
         "A mysterious stranger with a harmonica joins forces with a notorious desperado to protect a beautiful widow from a ruthless assassin working for the railroad."
        ],
        [
         "49",
         "Psycho",
         "A Phoenix secretary embezzles $40,000 from her employer's client, goes on the run, and checks into a remote motel run by a young man under the domination of his mother."
        ]
       ],
       "shape": {
        "columns": 2,
        "rows": 1000
       }
      },
      "text/html": [
       "<div>\n",
       "<style scoped>\n",
       "    .dataframe tbody tr th:only-of-type {\n",
       "        vertical-align: middle;\n",
       "    }\n",
       "\n",
       "    .dataframe tbody tr th {\n",
       "        vertical-align: top;\n",
       "    }\n",
       "\n",
       "    .dataframe thead th {\n",
       "        text-align: right;\n",
       "    }\n",
       "</style>\n",
       "<table border=\"1\" class=\"dataframe\">\n",
       "  <thead>\n",
       "    <tr style=\"text-align: right;\">\n",
       "      <th></th>\n",
       "      <th>Series_Title</th>\n",
       "      <th>Overview</th>\n",
       "    </tr>\n",
       "  </thead>\n",
       "  <tbody>\n",
       "    <tr>\n",
       "      <th>0</th>\n",
       "      <td>The Shawshank Redemption</td>\n",
       "      <td>Two imprisoned men bond over a number of years...</td>\n",
       "    </tr>\n",
       "    <tr>\n",
       "      <th>1</th>\n",
       "      <td>The Godfather</td>\n",
       "      <td>An organized crime dynasty's aging patriarch t...</td>\n",
       "    </tr>\n",
       "    <tr>\n",
       "      <th>2</th>\n",
       "      <td>The Dark Knight</td>\n",
       "      <td>When the menace known as the Joker wreaks havo...</td>\n",
       "    </tr>\n",
       "    <tr>\n",
       "      <th>3</th>\n",
       "      <td>The Godfather: Part II</td>\n",
       "      <td>The early life and career of Vito Corleone in ...</td>\n",
       "    </tr>\n",
       "    <tr>\n",
       "      <th>4</th>\n",
       "      <td>12 Angry Men</td>\n",
       "      <td>A jury holdout attempts to prevent a miscarria...</td>\n",
       "    </tr>\n",
       "    <tr>\n",
       "      <th>...</th>\n",
       "      <td>...</td>\n",
       "      <td>...</td>\n",
       "    </tr>\n",
       "    <tr>\n",
       "      <th>995</th>\n",
       "      <td>Breakfast at Tiffany's</td>\n",
       "      <td>A young New York socialite becomes interested ...</td>\n",
       "    </tr>\n",
       "    <tr>\n",
       "      <th>996</th>\n",
       "      <td>Giant</td>\n",
       "      <td>Sprawling epic covering the life of a Texas ca...</td>\n",
       "    </tr>\n",
       "    <tr>\n",
       "      <th>997</th>\n",
       "      <td>From Here to Eternity</td>\n",
       "      <td>In Hawaii in 1941, a private is cruelly punish...</td>\n",
       "    </tr>\n",
       "    <tr>\n",
       "      <th>998</th>\n",
       "      <td>Lifeboat</td>\n",
       "      <td>Several survivors of a torpedoed merchant ship...</td>\n",
       "    </tr>\n",
       "    <tr>\n",
       "      <th>999</th>\n",
       "      <td>The 39 Steps</td>\n",
       "      <td>A man in London tries to help a counter-espion...</td>\n",
       "    </tr>\n",
       "  </tbody>\n",
       "</table>\n",
       "<p>1000 rows × 2 columns</p>\n",
       "</div>"
      ],
      "text/plain": [
       "                 Series_Title  \\\n",
       "0    The Shawshank Redemption   \n",
       "1               The Godfather   \n",
       "2             The Dark Knight   \n",
       "3      The Godfather: Part II   \n",
       "4                12 Angry Men   \n",
       "..                        ...   \n",
       "995    Breakfast at Tiffany's   \n",
       "996                     Giant   \n",
       "997     From Here to Eternity   \n",
       "998                  Lifeboat   \n",
       "999              The 39 Steps   \n",
       "\n",
       "                                              Overview  \n",
       "0    Two imprisoned men bond over a number of years...  \n",
       "1    An organized crime dynasty's aging patriarch t...  \n",
       "2    When the menace known as the Joker wreaks havo...  \n",
       "3    The early life and career of Vito Corleone in ...  \n",
       "4    A jury holdout attempts to prevent a miscarria...  \n",
       "..                                                 ...  \n",
       "995  A young New York socialite becomes interested ...  \n",
       "996  Sprawling epic covering the life of a Texas ca...  \n",
       "997  In Hawaii in 1941, a private is cruelly punish...  \n",
       "998  Several survivors of a torpedoed merchant ship...  \n",
       "999  A man in London tries to help a counter-espion...  \n",
       "\n",
       "[1000 rows x 2 columns]"
      ]
     },
     "execution_count": 8,
     "metadata": {},
     "output_type": "execute_result"
    }
   ],
   "source": [
    "df_removed = df.drop(columns=unwanted_cols)\n",
    "df_removed"
   ]
  },
  {
   "cell_type": "code",
   "execution_count": 9,
   "metadata": {},
   "outputs": [],
   "source": [
    "nlp = spacy.load(\"en_core_web_md\")\n",
    "def text_preprocessor(text):\n",
    "    text = nlp(text)\n",
    "    text = \" \".join([i.lemma_ for i in text if not i.is_stop and not i.is_punct])\n",
    "    return text"
   ]
  },
  {
   "cell_type": "code",
   "execution_count": 10,
   "metadata": {},
   "outputs": [
    {
     "data": {
      "application/vnd.microsoft.datawrangler.viewer.v0+json": {
       "columns": [
        {
         "name": "index",
         "rawType": "int64",
         "type": "integer"
        },
        {
         "name": "Series_Title",
         "rawType": "object",
         "type": "string"
        },
        {
         "name": "Overview",
         "rawType": "object",
         "type": "string"
        },
        {
         "name": "Preprocessed",
         "rawType": "object",
         "type": "string"
        }
       ],
       "ref": "5722b24d-6c00-4b5c-beb7-d2a4d35b6888",
       "rows": [
        [
         "0",
         "The Shawshank Redemption",
         "Two imprisoned men bond over a number of years, finding solace and eventual redemption through acts of common decency.",
         "imprison man bond number year find solace eventual redemption act common decency"
        ],
        [
         "1",
         "The Godfather",
         "An organized crime dynasty's aging patriarch transfers control of his clandestine empire to his reluctant son.",
         "organized crime dynasty age patriarch transfer control clandestine empire reluctant son"
        ],
        [
         "2",
         "The Dark Knight",
         "When the menace known as the Joker wreaks havoc and chaos on the people of Gotham, Batman must accept one of the greatest psychological and physical tests of his ability to fight injustice.",
         "menace know Joker wreak havoc chaos people Gotham Batman accept great psychological physical test ability fight injustice"
        ],
        [
         "3",
         "The Godfather: Part II",
         "The early life and career of Vito Corleone in 1920s New York City is portrayed, while his son, Michael, expands and tightens his grip on the family crime syndicate.",
         "early life career Vito Corleone 1920s New York City portray son Michael expand tighten grip family crime syndicate"
        ],
        [
         "4",
         "12 Angry Men",
         "A jury holdout attempts to prevent a miscarriage of justice by forcing his colleagues to reconsider the evidence.",
         "jury holdout attempt prevent miscarriage justice force colleague reconsider evidence"
        ],
        [
         "5",
         "The Lord of the Rings: The Return of the King",
         "Gandalf and Aragorn lead the World of Men against Sauron's army to draw his gaze from Frodo and Sam as they approach Mount Doom with the One Ring.",
         "Gandalf Aragorn lead World Men Sauron army draw gaze Frodo Sam approach Mount Doom Ring"
        ],
        [
         "6",
         "Pulp Fiction",
         "The lives of two mob hitmen, a boxer, a gangster and his wife, and a pair of diner bandits intertwine in four tales of violence and redemption.",
         "life mob hitman boxer gangster wife pair diner bandit intertwine tale violence redemption"
        ],
        [
         "7",
         "Schindler's List",
         "In German-occupied Poland during World War II, industrialist Oskar Schindler gradually becomes concerned for his Jewish workforce after witnessing their persecution by the Nazis.",
         "german occupy Poland World War II industrialist Oskar Schindler gradually concerned jewish workforce witness persecution Nazis"
        ],
        [
         "8",
         "Inception",
         "A thief who steals corporate secrets through the use of dream-sharing technology is given the inverse task of planting an idea into the mind of a C.E.O.",
         "thief steal corporate secret use dream share technology give inverse task plant idea mind C.E.O."
        ],
        [
         "9",
         "Fight Club",
         "An insomniac office worker and a devil-may-care soapmaker form an underground fight club that evolves into something much, much more.",
         "insomniac office worker devil care soapmaker form underground fight club evolve"
        ],
        [
         "10",
         "The Lord of the Rings: The Fellowship of the Ring",
         "A meek Hobbit from the Shire and eight companions set out on a journey to destroy the powerful One Ring and save Middle-earth from the Dark Lord Sauron.",
         "meek Hobbit Shire companion set journey destroy powerful Ring save Middle earth Dark Lord Sauron"
        ],
        [
         "11",
         "Forrest Gump",
         "The presidencies of Kennedy and Johnson, the events of Vietnam, Watergate and other historical events unfold through the perspective of an Alabama man with an IQ of 75, whose only desire is to be reunited with his childhood sweetheart.",
         "presidency Kennedy Johnson event Vietnam Watergate historical event unfold perspective Alabama man iq 75 desire reunite childhood sweetheart"
        ],
        [
         "12",
         "Il buono, il brutto, il cattivo",
         "A bounty hunting scam joins two men in an uneasy alliance against a third in a race to find a fortune in gold buried in a remote cemetery.",
         "bounty hunt scam join man uneasy alliance race find fortune gold bury remote cemetery"
        ],
        [
         "13",
         "The Lord of the Rings: The Two Towers",
         "While Frodo and Sam edge closer to Mordor with the help of the shifty Gollum, the divided fellowship makes a stand against Sauron's new ally, Saruman, and his hordes of Isengard.",
         "Frodo Sam edge close Mordor help shifty Gollum divide fellowship make stand Sauron new ally Saruman horde Isengard"
        ],
        [
         "14",
         "The Matrix",
         "When a beautiful stranger leads computer hacker Neo to a forbidding underworld, he discovers the shocking truth--the life he knows is the elaborate deception of an evil cyber-intelligence.",
         "beautiful stranger lead computer hacker Neo forbid underworld discover shocking truth life know elaborate deception evil cyber intelligence"
        ],
        [
         "15",
         "Goodfellas",
         "The story of Henry Hill and his life in the mob, covering his relationship with his wife Karen Hill and his mob partners Jimmy Conway and Tommy DeVito in the Italian-American crime syndicate.",
         "story Henry Hill life mob cover relationship wife Karen Hill mob partner Jimmy Conway Tommy DeVito italian american crime syndicate"
        ],
        [
         "16",
         "Star Wars: Episode V - The Empire Strikes Back",
         "After the Rebels are brutally overpowered by the Empire on the ice planet Hoth, Luke Skywalker begins Jedi training with Yoda, while his friends are pursued by Darth Vader and a bounty hunter named Boba Fett all over the galaxy.",
         "Rebels brutally overpower Empire ice planet Hoth Luke Skywalker begin Jedi training Yoda friend pursue Darth Vader bounty hunter name Boba Fett galaxy"
        ],
        [
         "17",
         "One Flew Over the Cuckoo's Nest",
         "A criminal pleads insanity and is admitted to a mental institution, where he rebels against the oppressive nurse and rallies up the scared patients.",
         "criminal plead insanity admit mental institution rebel oppressive nurse rally scared patient"
        ],
        [
         "18",
         "Hamilton",
         "The real life of one of America's foremost founding fathers and first Secretary of the Treasury, Alexander Hamilton. Captured live on Broadway from the Richard Rodgers Theater with the original Broadway cast.",
         "real life America foremost found father Secretary Treasury Alexander Hamilton capture live Broadway Richard Rodgers Theater original Broadway cast"
        ],
        [
         "19",
         "Gisaengchung",
         "Greed and class discrimination threaten the newly formed symbiotic relationship between the wealthy Park family and the destitute Kim clan.",
         "greed class discrimination threaten newly form symbiotic relationship wealthy Park family destitute Kim clan"
        ],
        [
         "20",
         "Soorarai Pottru",
         "Nedumaaran Rajangam \"Maara\" sets out to make the common man fly and in the process takes on the world's most capital intensive industry and several enemies who stand in his way.",
         "Nedumaaran Rajangam Maara set common man fly process take world capital intensive industry enemy stand way"
        ],
        [
         "21",
         "Interstellar",
         "A team of explorers travel through a wormhole in space in an attempt to ensure humanity's survival.",
         "team explorer travel wormhole space attempt ensure humanity survival"
        ],
        [
         "22",
         "Cidade de Deus",
         "In the slums of Rio, two kids' paths diverge as one struggles to become a photographer and the other a kingpin.",
         "slum Rio kid path diverge struggle photographer kingpin"
        ],
        [
         "23",
         "Sen to Chihiro no kamikakushi",
         "During her family's move to the suburbs, a sullen 10-year-old girl wanders into a world ruled by gods, witches, and spirits, and where humans are changed into beasts.",
         "family suburb sullen 10 year old girl wander world rule god witch spirit human change beast"
        ],
        [
         "24",
         "Saving Private Ryan",
         "Following the Normandy Landings, a group of U.S. soldiers go behind enemy lines to retrieve a paratrooper whose brothers have been killed in action.",
         "follow Normandy Landings group U.S. soldier enemy line retrieve paratrooper brother kill action"
        ],
        [
         "25",
         "The Green Mile",
         "The lives of guards on Death Row are affected by one of their charges: a black man accused of child murder and rape, yet who has a mysterious gift.",
         "life guard death row affect charge black man accuse child murder rape mysterious gift"
        ],
        [
         "26",
         "La vita è bella",
         "When an open-minded Jewish librarian and his son become victims of the Holocaust, he uses a perfect mixture of will, humor, and imagination to protect his son from the dangers around their camp.",
         "open minded jewish librarian son victim Holocaust use perfect mixture humor imagination protect son danger camp"
        ],
        [
         "27",
         "Se7en",
         "Two detectives, a rookie and a veteran, hunt a serial killer who uses the seven deadly sins as his motives.",
         "detective rookie veteran hunt serial killer use seven deadly sin motive"
        ],
        [
         "28",
         "The Silence of the Lambs",
         "A young F.B.I. cadet must receive the help of an incarcerated and manipulative cannibal killer to help catch another serial killer, a madman who skins his victims.",
         "young F.B.I. cadet receive help incarcerated manipulative cannibal killer help catch serial killer madman skin victim"
        ],
        [
         "29",
         "Star Wars",
         "Luke Skywalker joins forces with a Jedi Knight, a cocky pilot, a Wookiee and two droids to save the galaxy from the Empire's world-destroying battle station, while also attempting to rescue Princess Leia from the mysterious Darth Vader.",
         "Luke Skywalker join force Jedi Knight cocky pilot Wookiee droid save galaxy Empire world destroy battle station attempt rescue Princess Leia mysterious Darth Vader"
        ],
        [
         "30",
         "Seppuku",
         "When a ronin requesting seppuku at a feudal lord's palace is told of the brutal suicide of another ronin who previously visited, he reveals how their pasts are intertwined - and in doing so challenges the clan's integrity.",
         "ronin request seppuku feudal lord palace tell brutal suicide ronin previously visit reveal past intertwine challenge clan integrity"
        ],
        [
         "31",
         "Shichinin no samurai",
         "A poor village under attack by bandits recruits seven unemployed samurai to help them defend themselves.",
         "poor village attack bandit recruit seven unemployed samurai help defend"
        ],
        [
         "32",
         "It's a Wonderful Life",
         "An angel is sent from Heaven to help a desperately frustrated businessman by showing him what life would have been like if he had never existed.",
         "angel send Heaven help desperately frustrated businessman show life like exist"
        ],
        [
         "33",
         "Joker",
         "In Gotham City, mentally troubled comedian Arthur Fleck is disregarded and mistreated by society. He then embarks on a downward spiral of revolution and bloody crime. This path brings him face-to-face with his alter-ego: the Joker.",
         "Gotham City mentally troubled comedian Arthur Fleck disregard mistreat society embark downward spiral revolution bloody crime path bring face face alter ego Joker"
        ],
        [
         "34",
         "Whiplash",
         "A promising young drummer enrolls at a cut-throat music conservatory where his dreams of greatness are mentored by an instructor who will stop at nothing to realize a student's potential.",
         "promising young drummer enroll cut throat music conservatory dream greatness mentor instructor stop realize student potential"
        ],
        [
         "35",
         "The Intouchables",
         "After he becomes a quadriplegic from a paragliding accident, an aristocrat hires a young man from the projects to be his caregiver.",
         "quadriplegic paragliding accident aristocrat hire young man project caregiver"
        ],
        [
         "36",
         "The Prestige",
         "After a tragic accident, two stage magicians engage in a battle to create the ultimate illusion while sacrificing everything they have to outwit each other.",
         "tragic accident stage magician engage battle create ultimate illusion sacrifice outwit"
        ],
        [
         "37",
         "The Departed",
         "An undercover cop and a mole in the police attempt to identify each other while infiltrating an Irish gang in South Boston.",
         "undercover cop mole police attempt identify infiltrate irish gang South Boston"
        ],
        [
         "38",
         "The Pianist",
         "A Polish Jewish musician struggles to survive the destruction of the Warsaw ghetto of World War II.",
         "polish jewish musician struggle survive destruction Warsaw ghetto World War II"
        ],
        [
         "39",
         "Gladiator",
         "A former Roman General sets out to exact vengeance against the corrupt emperor who murdered his family and sent him into slavery.",
         "Roman General set exact vengeance corrupt emperor murder family send slavery"
        ],
        [
         "40",
         "American History X",
         "A former neo-nazi skinhead tries to prevent his younger brother from going down the same wrong path that he did.",
         "neo nazi skinhead try prevent young brother go wrong path"
        ],
        [
         "41",
         "The Usual Suspects",
         "A sole survivor tells of the twisty events leading up to a horrific gun battle on a boat, which began when five criminals met at a seemingly random police lineup.",
         "sole survivor tell twisty event lead horrific gun battle boat begin criminal meet seemingly random police lineup"
        ],
        [
         "42",
         "Léon",
         "Mathilda, a 12-year-old girl, is reluctantly taken in by Léon, a professional assassin, after her family is murdered. An unusual relationship forms as she becomes his protégée and learns the assassin's trade.",
         "Mathilda 12 year old girl reluctantly take Léon professional assassin family murder unusual relationship form protégée learn assassin trade"
        ],
        [
         "43",
         "The Lion King",
         "Lion prince Simba and his father are targeted by his bitter uncle, who wants to ascend the throne himself.",
         "Lion prince Simba father target bitter uncle want ascend throne"
        ],
        [
         "44",
         "Terminator 2: Judgment Day",
         "A cyborg, identical to the one who failed to kill Sarah Connor, must now protect her teenage son, John Connor, from a more advanced and powerful cyborg.",
         "cyborg identical fail kill Sarah Connor protect teenage son John Connor advanced powerful cyborg"
        ],
        [
         "45",
         "Nuovo Cinema Paradiso",
         "A filmmaker recalls his childhood when falling in love with the pictures at the cinema of his home village and forms a deep friendship with the cinema's projectionist.",
         "filmmaker recall childhood fall love picture cinema home village form deep friendship cinema projectionist"
        ],
        [
         "46",
         "Hotaru no haka",
         "A young boy and his little sister struggle to survive in Japan during World War II.",
         "young boy little sister struggle survive Japan World War II"
        ],
        [
         "47",
         "Back to the Future",
         "Marty McFly, a 17-year-old high school student, is accidentally sent thirty years into the past in a time-traveling DeLorean invented by his close friend, the eccentric scientist Doc Brown.",
         "Marty McFly 17 year old high school student accidentally send thirty year past time travel DeLorean invent close friend eccentric scientist Doc Brown"
        ],
        [
         "48",
         "Once Upon a Time in the West",
         "A mysterious stranger with a harmonica joins forces with a notorious desperado to protect a beautiful widow from a ruthless assassin working for the railroad.",
         "mysterious stranger harmonica join force notorious desperado protect beautiful widow ruthless assassin work railroad"
        ],
        [
         "49",
         "Psycho",
         "A Phoenix secretary embezzles $40,000 from her employer's client, goes on the run, and checks into a remote motel run by a young man under the domination of his mother.",
         "Phoenix secretary embezzle $ 40,000 employer client go run check remote motel run young man domination mother"
        ]
       ],
       "shape": {
        "columns": 3,
        "rows": 1000
       }
      },
      "text/html": [
       "<div>\n",
       "<style scoped>\n",
       "    .dataframe tbody tr th:only-of-type {\n",
       "        vertical-align: middle;\n",
       "    }\n",
       "\n",
       "    .dataframe tbody tr th {\n",
       "        vertical-align: top;\n",
       "    }\n",
       "\n",
       "    .dataframe thead th {\n",
       "        text-align: right;\n",
       "    }\n",
       "</style>\n",
       "<table border=\"1\" class=\"dataframe\">\n",
       "  <thead>\n",
       "    <tr style=\"text-align: right;\">\n",
       "      <th></th>\n",
       "      <th>Series_Title</th>\n",
       "      <th>Overview</th>\n",
       "      <th>Preprocessed</th>\n",
       "    </tr>\n",
       "  </thead>\n",
       "  <tbody>\n",
       "    <tr>\n",
       "      <th>0</th>\n",
       "      <td>The Shawshank Redemption</td>\n",
       "      <td>Two imprisoned men bond over a number of years...</td>\n",
       "      <td>imprison man bond number year find solace even...</td>\n",
       "    </tr>\n",
       "    <tr>\n",
       "      <th>1</th>\n",
       "      <td>The Godfather</td>\n",
       "      <td>An organized crime dynasty's aging patriarch t...</td>\n",
       "      <td>organized crime dynasty age patriarch transfer...</td>\n",
       "    </tr>\n",
       "    <tr>\n",
       "      <th>2</th>\n",
       "      <td>The Dark Knight</td>\n",
       "      <td>When the menace known as the Joker wreaks havo...</td>\n",
       "      <td>menace know Joker wreak havoc chaos people Got...</td>\n",
       "    </tr>\n",
       "    <tr>\n",
       "      <th>3</th>\n",
       "      <td>The Godfather: Part II</td>\n",
       "      <td>The early life and career of Vito Corleone in ...</td>\n",
       "      <td>early life career Vito Corleone 1920s New York...</td>\n",
       "    </tr>\n",
       "    <tr>\n",
       "      <th>4</th>\n",
       "      <td>12 Angry Men</td>\n",
       "      <td>A jury holdout attempts to prevent a miscarria...</td>\n",
       "      <td>jury holdout attempt prevent miscarriage justi...</td>\n",
       "    </tr>\n",
       "    <tr>\n",
       "      <th>...</th>\n",
       "      <td>...</td>\n",
       "      <td>...</td>\n",
       "      <td>...</td>\n",
       "    </tr>\n",
       "    <tr>\n",
       "      <th>995</th>\n",
       "      <td>Breakfast at Tiffany's</td>\n",
       "      <td>A young New York socialite becomes interested ...</td>\n",
       "      <td>young New York socialite interested young man ...</td>\n",
       "    </tr>\n",
       "    <tr>\n",
       "      <th>996</th>\n",
       "      <td>Giant</td>\n",
       "      <td>Sprawling epic covering the life of a Texas ca...</td>\n",
       "      <td>sprawl epic cover life Texas cattle rancher fa...</td>\n",
       "    </tr>\n",
       "    <tr>\n",
       "      <th>997</th>\n",
       "      <td>From Here to Eternity</td>\n",
       "      <td>In Hawaii in 1941, a private is cruelly punish...</td>\n",
       "      <td>Hawaii 1941 private cruelly punish box unit te...</td>\n",
       "    </tr>\n",
       "    <tr>\n",
       "      <th>998</th>\n",
       "      <td>Lifeboat</td>\n",
       "      <td>Several survivors of a torpedoed merchant ship...</td>\n",
       "      <td>survivor torpedoed merchant ship World War II ...</td>\n",
       "    </tr>\n",
       "    <tr>\n",
       "      <th>999</th>\n",
       "      <td>The 39 Steps</td>\n",
       "      <td>A man in London tries to help a counter-espion...</td>\n",
       "      <td>man London try help counter espionage agent Ag...</td>\n",
       "    </tr>\n",
       "  </tbody>\n",
       "</table>\n",
       "<p>1000 rows × 3 columns</p>\n",
       "</div>"
      ],
      "text/plain": [
       "                 Series_Title  \\\n",
       "0    The Shawshank Redemption   \n",
       "1               The Godfather   \n",
       "2             The Dark Knight   \n",
       "3      The Godfather: Part II   \n",
       "4                12 Angry Men   \n",
       "..                        ...   \n",
       "995    Breakfast at Tiffany's   \n",
       "996                     Giant   \n",
       "997     From Here to Eternity   \n",
       "998                  Lifeboat   \n",
       "999              The 39 Steps   \n",
       "\n",
       "                                              Overview  \\\n",
       "0    Two imprisoned men bond over a number of years...   \n",
       "1    An organized crime dynasty's aging patriarch t...   \n",
       "2    When the menace known as the Joker wreaks havo...   \n",
       "3    The early life and career of Vito Corleone in ...   \n",
       "4    A jury holdout attempts to prevent a miscarria...   \n",
       "..                                                 ...   \n",
       "995  A young New York socialite becomes interested ...   \n",
       "996  Sprawling epic covering the life of a Texas ca...   \n",
       "997  In Hawaii in 1941, a private is cruelly punish...   \n",
       "998  Several survivors of a torpedoed merchant ship...   \n",
       "999  A man in London tries to help a counter-espion...   \n",
       "\n",
       "                                          Preprocessed  \n",
       "0    imprison man bond number year find solace even...  \n",
       "1    organized crime dynasty age patriarch transfer...  \n",
       "2    menace know Joker wreak havoc chaos people Got...  \n",
       "3    early life career Vito Corleone 1920s New York...  \n",
       "4    jury holdout attempt prevent miscarriage justi...  \n",
       "..                                                 ...  \n",
       "995  young New York socialite interested young man ...  \n",
       "996  sprawl epic cover life Texas cattle rancher fa...  \n",
       "997  Hawaii 1941 private cruelly punish box unit te...  \n",
       "998  survivor torpedoed merchant ship World War II ...  \n",
       "999  man London try help counter espionage agent Ag...  \n",
       "\n",
       "[1000 rows x 3 columns]"
      ]
     },
     "execution_count": 10,
     "metadata": {},
     "output_type": "execute_result"
    }
   ],
   "source": [
    "df_preprocessed = df_removed.copy()\n",
    "df_preprocessed[\"Preprocessed\"] = df_preprocessed[\"Overview\"].apply(func=text_preprocessor)\n",
    "df_preprocessed"
   ]
  },
  {
   "cell_type": "code",
   "execution_count": 11,
   "metadata": {},
   "outputs": [],
   "source": [
    "df_preprocessed[\"Docs\"] = df[\"Overview\"].apply(nlp)"
   ]
  },
  {
   "cell_type": "code",
   "execution_count": 12,
   "metadata": {},
   "outputs": [
    {
     "data": {
      "application/vnd.microsoft.datawrangler.viewer.v0+json": {
       "columns": [
        {
         "name": "index",
         "rawType": "int64",
         "type": "integer"
        },
        {
         "name": "Series_Title",
         "rawType": "object",
         "type": "string"
        },
        {
         "name": "Overview",
         "rawType": "object",
         "type": "string"
        },
        {
         "name": "Preprocessed",
         "rawType": "object",
         "type": "string"
        },
        {
         "name": "Docs",
         "rawType": "object",
         "type": "unknown"
        }
       ],
       "ref": "395718ac-6d45-4251-b6e3-b375bd4658b8",
       "rows": [
        [
         "0",
         "The Shawshank Redemption",
         "Two imprisoned men bond over a number of years, finding solace and eventual redemption through acts of common decency.",
         "imprison man bond number year find solace eventual redemption act common decency",
         "Two imprisoned men bond over a number of years, finding solace and eventual redemption through acts of common decency."
        ],
        [
         "1",
         "The Godfather",
         "An organized crime dynasty's aging patriarch transfers control of his clandestine empire to his reluctant son.",
         "organized crime dynasty age patriarch transfer control clandestine empire reluctant son",
         "An organized crime dynasty's aging patriarch transfers control of his clandestine empire to his reluctant son."
        ],
        [
         "2",
         "The Dark Knight",
         "When the menace known as the Joker wreaks havoc and chaos on the people of Gotham, Batman must accept one of the greatest psychological and physical tests of his ability to fight injustice.",
         "menace know Joker wreak havoc chaos people Gotham Batman accept great psychological physical test ability fight injustice",
         "When the menace known as the Joker wreaks havoc and chaos on the people of Gotham, Batman must accept one of the greatest psychological and physical tests of his ability to fight injustice."
        ],
        [
         "3",
         "The Godfather: Part II",
         "The early life and career of Vito Corleone in 1920s New York City is portrayed, while his son, Michael, expands and tightens his grip on the family crime syndicate.",
         "early life career Vito Corleone 1920s New York City portray son Michael expand tighten grip family crime syndicate",
         "The early life and career of Vito Corleone in 1920s New York City is portrayed, while his son, Michael, expands and tightens his grip on the family crime syndicate."
        ],
        [
         "4",
         "12 Angry Men",
         "A jury holdout attempts to prevent a miscarriage of justice by forcing his colleagues to reconsider the evidence.",
         "jury holdout attempt prevent miscarriage justice force colleague reconsider evidence",
         "A jury holdout attempts to prevent a miscarriage of justice by forcing his colleagues to reconsider the evidence."
        ],
        [
         "5",
         "The Lord of the Rings: The Return of the King",
         "Gandalf and Aragorn lead the World of Men against Sauron's army to draw his gaze from Frodo and Sam as they approach Mount Doom with the One Ring.",
         "Gandalf Aragorn lead World Men Sauron army draw gaze Frodo Sam approach Mount Doom Ring",
         "Gandalf and Aragorn lead the World of Men against Sauron's army to draw his gaze from Frodo and Sam as they approach Mount Doom with the One Ring."
        ],
        [
         "6",
         "Pulp Fiction",
         "The lives of two mob hitmen, a boxer, a gangster and his wife, and a pair of diner bandits intertwine in four tales of violence and redemption.",
         "life mob hitman boxer gangster wife pair diner bandit intertwine tale violence redemption",
         "The lives of two mob hitmen, a boxer, a gangster and his wife, and a pair of diner bandits intertwine in four tales of violence and redemption."
        ],
        [
         "7",
         "Schindler's List",
         "In German-occupied Poland during World War II, industrialist Oskar Schindler gradually becomes concerned for his Jewish workforce after witnessing their persecution by the Nazis.",
         "german occupy Poland World War II industrialist Oskar Schindler gradually concerned jewish workforce witness persecution Nazis",
         "In German-occupied Poland during World War II, industrialist Oskar Schindler gradually becomes concerned for his Jewish workforce after witnessing their persecution by the Nazis."
        ],
        [
         "8",
         "Inception",
         "A thief who steals corporate secrets through the use of dream-sharing technology is given the inverse task of planting an idea into the mind of a C.E.O.",
         "thief steal corporate secret use dream share technology give inverse task plant idea mind C.E.O.",
         "A thief who steals corporate secrets through the use of dream-sharing technology is given the inverse task of planting an idea into the mind of a C.E.O."
        ],
        [
         "9",
         "Fight Club",
         "An insomniac office worker and a devil-may-care soapmaker form an underground fight club that evolves into something much, much more.",
         "insomniac office worker devil care soapmaker form underground fight club evolve",
         "An insomniac office worker and a devil-may-care soapmaker form an underground fight club that evolves into something much, much more."
        ],
        [
         "10",
         "The Lord of the Rings: The Fellowship of the Ring",
         "A meek Hobbit from the Shire and eight companions set out on a journey to destroy the powerful One Ring and save Middle-earth from the Dark Lord Sauron.",
         "meek Hobbit Shire companion set journey destroy powerful Ring save Middle earth Dark Lord Sauron",
         "A meek Hobbit from the Shire and eight companions set out on a journey to destroy the powerful One Ring and save Middle-earth from the Dark Lord Sauron."
        ],
        [
         "11",
         "Forrest Gump",
         "The presidencies of Kennedy and Johnson, the events of Vietnam, Watergate and other historical events unfold through the perspective of an Alabama man with an IQ of 75, whose only desire is to be reunited with his childhood sweetheart.",
         "presidency Kennedy Johnson event Vietnam Watergate historical event unfold perspective Alabama man iq 75 desire reunite childhood sweetheart",
         "The presidencies of Kennedy and Johnson, the events of Vietnam, Watergate and other historical events unfold through the perspective of an Alabama man with an IQ of 75, whose only desire is to be reunited with his childhood sweetheart."
        ],
        [
         "12",
         "Il buono, il brutto, il cattivo",
         "A bounty hunting scam joins two men in an uneasy alliance against a third in a race to find a fortune in gold buried in a remote cemetery.",
         "bounty hunt scam join man uneasy alliance race find fortune gold bury remote cemetery",
         "A bounty hunting scam joins two men in an uneasy alliance against a third in a race to find a fortune in gold buried in a remote cemetery."
        ],
        [
         "13",
         "The Lord of the Rings: The Two Towers",
         "While Frodo and Sam edge closer to Mordor with the help of the shifty Gollum, the divided fellowship makes a stand against Sauron's new ally, Saruman, and his hordes of Isengard.",
         "Frodo Sam edge close Mordor help shifty Gollum divide fellowship make stand Sauron new ally Saruman horde Isengard",
         "While Frodo and Sam edge closer to Mordor with the help of the shifty Gollum, the divided fellowship makes a stand against Sauron's new ally, Saruman, and his hordes of Isengard."
        ],
        [
         "14",
         "The Matrix",
         "When a beautiful stranger leads computer hacker Neo to a forbidding underworld, he discovers the shocking truth--the life he knows is the elaborate deception of an evil cyber-intelligence.",
         "beautiful stranger lead computer hacker Neo forbid underworld discover shocking truth life know elaborate deception evil cyber intelligence",
         "When a beautiful stranger leads computer hacker Neo to a forbidding underworld, he discovers the shocking truth--the life he knows is the elaborate deception of an evil cyber-intelligence."
        ],
        [
         "15",
         "Goodfellas",
         "The story of Henry Hill and his life in the mob, covering his relationship with his wife Karen Hill and his mob partners Jimmy Conway and Tommy DeVito in the Italian-American crime syndicate.",
         "story Henry Hill life mob cover relationship wife Karen Hill mob partner Jimmy Conway Tommy DeVito italian american crime syndicate",
         "The story of Henry Hill and his life in the mob, covering his relationship with his wife Karen Hill and his mob partners Jimmy Conway and Tommy DeVito in the Italian-American crime syndicate."
        ],
        [
         "16",
         "Star Wars: Episode V - The Empire Strikes Back",
         "After the Rebels are brutally overpowered by the Empire on the ice planet Hoth, Luke Skywalker begins Jedi training with Yoda, while his friends are pursued by Darth Vader and a bounty hunter named Boba Fett all over the galaxy.",
         "Rebels brutally overpower Empire ice planet Hoth Luke Skywalker begin Jedi training Yoda friend pursue Darth Vader bounty hunter name Boba Fett galaxy",
         "After the Rebels are brutally overpowered by the Empire on the ice planet Hoth, Luke Skywalker begins Jedi training with Yoda, while his friends are pursued by Darth Vader and a bounty hunter named Boba Fett all over the galaxy."
        ],
        [
         "17",
         "One Flew Over the Cuckoo's Nest",
         "A criminal pleads insanity and is admitted to a mental institution, where he rebels against the oppressive nurse and rallies up the scared patients.",
         "criminal plead insanity admit mental institution rebel oppressive nurse rally scared patient",
         "A criminal pleads insanity and is admitted to a mental institution, where he rebels against the oppressive nurse and rallies up the scared patients."
        ],
        [
         "18",
         "Hamilton",
         "The real life of one of America's foremost founding fathers and first Secretary of the Treasury, Alexander Hamilton. Captured live on Broadway from the Richard Rodgers Theater with the original Broadway cast.",
         "real life America foremost found father Secretary Treasury Alexander Hamilton capture live Broadway Richard Rodgers Theater original Broadway cast",
         "The real life of one of America's foremost founding fathers and first Secretary of the Treasury, Alexander Hamilton. Captured live on Broadway from the Richard Rodgers Theater with the original Broadway cast."
        ],
        [
         "19",
         "Gisaengchung",
         "Greed and class discrimination threaten the newly formed symbiotic relationship between the wealthy Park family and the destitute Kim clan.",
         "greed class discrimination threaten newly form symbiotic relationship wealthy Park family destitute Kim clan",
         "Greed and class discrimination threaten the newly formed symbiotic relationship between the wealthy Park family and the destitute Kim clan."
        ],
        [
         "20",
         "Soorarai Pottru",
         "Nedumaaran Rajangam \"Maara\" sets out to make the common man fly and in the process takes on the world's most capital intensive industry and several enemies who stand in his way.",
         "Nedumaaran Rajangam Maara set common man fly process take world capital intensive industry enemy stand way",
         "Nedumaaran Rajangam \"Maara\" sets out to make the common man fly and in the process takes on the world's most capital intensive industry and several enemies who stand in his way."
        ],
        [
         "21",
         "Interstellar",
         "A team of explorers travel through a wormhole in space in an attempt to ensure humanity's survival.",
         "team explorer travel wormhole space attempt ensure humanity survival",
         "A team of explorers travel through a wormhole in space in an attempt to ensure humanity's survival."
        ],
        [
         "22",
         "Cidade de Deus",
         "In the slums of Rio, two kids' paths diverge as one struggles to become a photographer and the other a kingpin.",
         "slum Rio kid path diverge struggle photographer kingpin",
         "In the slums of Rio, two kids' paths diverge as one struggles to become a photographer and the other a kingpin."
        ],
        [
         "23",
         "Sen to Chihiro no kamikakushi",
         "During her family's move to the suburbs, a sullen 10-year-old girl wanders into a world ruled by gods, witches, and spirits, and where humans are changed into beasts.",
         "family suburb sullen 10 year old girl wander world rule god witch spirit human change beast",
         "During her family's move to the suburbs, a sullen 10-year-old girl wanders into a world ruled by gods, witches, and spirits, and where humans are changed into beasts."
        ],
        [
         "24",
         "Saving Private Ryan",
         "Following the Normandy Landings, a group of U.S. soldiers go behind enemy lines to retrieve a paratrooper whose brothers have been killed in action.",
         "follow Normandy Landings group U.S. soldier enemy line retrieve paratrooper brother kill action",
         "Following the Normandy Landings, a group of U.S. soldiers go behind enemy lines to retrieve a paratrooper whose brothers have been killed in action."
        ],
        [
         "25",
         "The Green Mile",
         "The lives of guards on Death Row are affected by one of their charges: a black man accused of child murder and rape, yet who has a mysterious gift.",
         "life guard death row affect charge black man accuse child murder rape mysterious gift",
         "The lives of guards on Death Row are affected by one of their charges: a black man accused of child murder and rape, yet who has a mysterious gift."
        ],
        [
         "26",
         "La vita è bella",
         "When an open-minded Jewish librarian and his son become victims of the Holocaust, he uses a perfect mixture of will, humor, and imagination to protect his son from the dangers around their camp.",
         "open minded jewish librarian son victim Holocaust use perfect mixture humor imagination protect son danger camp",
         "When an open-minded Jewish librarian and his son become victims of the Holocaust, he uses a perfect mixture of will, humor, and imagination to protect his son from the dangers around their camp."
        ],
        [
         "27",
         "Se7en",
         "Two detectives, a rookie and a veteran, hunt a serial killer who uses the seven deadly sins as his motives.",
         "detective rookie veteran hunt serial killer use seven deadly sin motive",
         "Two detectives, a rookie and a veteran, hunt a serial killer who uses the seven deadly sins as his motives."
        ],
        [
         "28",
         "The Silence of the Lambs",
         "A young F.B.I. cadet must receive the help of an incarcerated and manipulative cannibal killer to help catch another serial killer, a madman who skins his victims.",
         "young F.B.I. cadet receive help incarcerated manipulative cannibal killer help catch serial killer madman skin victim",
         "A young F.B.I. cadet must receive the help of an incarcerated and manipulative cannibal killer to help catch another serial killer, a madman who skins his victims."
        ],
        [
         "29",
         "Star Wars",
         "Luke Skywalker joins forces with a Jedi Knight, a cocky pilot, a Wookiee and two droids to save the galaxy from the Empire's world-destroying battle station, while also attempting to rescue Princess Leia from the mysterious Darth Vader.",
         "Luke Skywalker join force Jedi Knight cocky pilot Wookiee droid save galaxy Empire world destroy battle station attempt rescue Princess Leia mysterious Darth Vader",
         "Luke Skywalker joins forces with a Jedi Knight, a cocky pilot, a Wookiee and two droids to save the galaxy from the Empire's world-destroying battle station, while also attempting to rescue Princess Leia from the mysterious Darth Vader."
        ],
        [
         "30",
         "Seppuku",
         "When a ronin requesting seppuku at a feudal lord's palace is told of the brutal suicide of another ronin who previously visited, he reveals how their pasts are intertwined - and in doing so challenges the clan's integrity.",
         "ronin request seppuku feudal lord palace tell brutal suicide ronin previously visit reveal past intertwine challenge clan integrity",
         "When a ronin requesting seppuku at a feudal lord's palace is told of the brutal suicide of another ronin who previously visited, he reveals how their pasts are intertwined - and in doing so challenges the clan's integrity."
        ],
        [
         "31",
         "Shichinin no samurai",
         "A poor village under attack by bandits recruits seven unemployed samurai to help them defend themselves.",
         "poor village attack bandit recruit seven unemployed samurai help defend",
         "A poor village under attack by bandits recruits seven unemployed samurai to help them defend themselves."
        ],
        [
         "32",
         "It's a Wonderful Life",
         "An angel is sent from Heaven to help a desperately frustrated businessman by showing him what life would have been like if he had never existed.",
         "angel send Heaven help desperately frustrated businessman show life like exist",
         "An angel is sent from Heaven to help a desperately frustrated businessman by showing him what life would have been like if he had never existed."
        ],
        [
         "33",
         "Joker",
         "In Gotham City, mentally troubled comedian Arthur Fleck is disregarded and mistreated by society. He then embarks on a downward spiral of revolution and bloody crime. This path brings him face-to-face with his alter-ego: the Joker.",
         "Gotham City mentally troubled comedian Arthur Fleck disregard mistreat society embark downward spiral revolution bloody crime path bring face face alter ego Joker",
         "In Gotham City, mentally troubled comedian Arthur Fleck is disregarded and mistreated by society. He then embarks on a downward spiral of revolution and bloody crime. This path brings him face-to-face with his alter-ego: the Joker."
        ],
        [
         "34",
         "Whiplash",
         "A promising young drummer enrolls at a cut-throat music conservatory where his dreams of greatness are mentored by an instructor who will stop at nothing to realize a student's potential.",
         "promising young drummer enroll cut throat music conservatory dream greatness mentor instructor stop realize student potential",
         "A promising young drummer enrolls at a cut-throat music conservatory where his dreams of greatness are mentored by an instructor who will stop at nothing to realize a student's potential."
        ],
        [
         "35",
         "The Intouchables",
         "After he becomes a quadriplegic from a paragliding accident, an aristocrat hires a young man from the projects to be his caregiver.",
         "quadriplegic paragliding accident aristocrat hire young man project caregiver",
         "After he becomes a quadriplegic from a paragliding accident, an aristocrat hires a young man from the projects to be his caregiver."
        ],
        [
         "36",
         "The Prestige",
         "After a tragic accident, two stage magicians engage in a battle to create the ultimate illusion while sacrificing everything they have to outwit each other.",
         "tragic accident stage magician engage battle create ultimate illusion sacrifice outwit",
         "After a tragic accident, two stage magicians engage in a battle to create the ultimate illusion while sacrificing everything they have to outwit each other."
        ],
        [
         "37",
         "The Departed",
         "An undercover cop and a mole in the police attempt to identify each other while infiltrating an Irish gang in South Boston.",
         "undercover cop mole police attempt identify infiltrate irish gang South Boston",
         "An undercover cop and a mole in the police attempt to identify each other while infiltrating an Irish gang in South Boston."
        ],
        [
         "38",
         "The Pianist",
         "A Polish Jewish musician struggles to survive the destruction of the Warsaw ghetto of World War II.",
         "polish jewish musician struggle survive destruction Warsaw ghetto World War II",
         "A Polish Jewish musician struggles to survive the destruction of the Warsaw ghetto of World War II."
        ],
        [
         "39",
         "Gladiator",
         "A former Roman General sets out to exact vengeance against the corrupt emperor who murdered his family and sent him into slavery.",
         "Roman General set exact vengeance corrupt emperor murder family send slavery",
         "A former Roman General sets out to exact vengeance against the corrupt emperor who murdered his family and sent him into slavery."
        ],
        [
         "40",
         "American History X",
         "A former neo-nazi skinhead tries to prevent his younger brother from going down the same wrong path that he did.",
         "neo nazi skinhead try prevent young brother go wrong path",
         "A former neo-nazi skinhead tries to prevent his younger brother from going down the same wrong path that he did."
        ],
        [
         "41",
         "The Usual Suspects",
         "A sole survivor tells of the twisty events leading up to a horrific gun battle on a boat, which began when five criminals met at a seemingly random police lineup.",
         "sole survivor tell twisty event lead horrific gun battle boat begin criminal meet seemingly random police lineup",
         "A sole survivor tells of the twisty events leading up to a horrific gun battle on a boat, which began when five criminals met at a seemingly random police lineup."
        ],
        [
         "42",
         "Léon",
         "Mathilda, a 12-year-old girl, is reluctantly taken in by Léon, a professional assassin, after her family is murdered. An unusual relationship forms as she becomes his protégée and learns the assassin's trade.",
         "Mathilda 12 year old girl reluctantly take Léon professional assassin family murder unusual relationship form protégée learn assassin trade",
         "Mathilda, a 12-year-old girl, is reluctantly taken in by Léon, a professional assassin, after her family is murdered. An unusual relationship forms as she becomes his protégée and learns the assassin's trade."
        ],
        [
         "43",
         "The Lion King",
         "Lion prince Simba and his father are targeted by his bitter uncle, who wants to ascend the throne himself.",
         "Lion prince Simba father target bitter uncle want ascend throne",
         "Lion prince Simba and his father are targeted by his bitter uncle, who wants to ascend the throne himself."
        ],
        [
         "44",
         "Terminator 2: Judgment Day",
         "A cyborg, identical to the one who failed to kill Sarah Connor, must now protect her teenage son, John Connor, from a more advanced and powerful cyborg.",
         "cyborg identical fail kill Sarah Connor protect teenage son John Connor advanced powerful cyborg",
         "A cyborg, identical to the one who failed to kill Sarah Connor, must now protect her teenage son, John Connor, from a more advanced and powerful cyborg."
        ],
        [
         "45",
         "Nuovo Cinema Paradiso",
         "A filmmaker recalls his childhood when falling in love with the pictures at the cinema of his home village and forms a deep friendship with the cinema's projectionist.",
         "filmmaker recall childhood fall love picture cinema home village form deep friendship cinema projectionist",
         "A filmmaker recalls his childhood when falling in love with the pictures at the cinema of his home village and forms a deep friendship with the cinema's projectionist."
        ],
        [
         "46",
         "Hotaru no haka",
         "A young boy and his little sister struggle to survive in Japan during World War II.",
         "young boy little sister struggle survive Japan World War II",
         "A young boy and his little sister struggle to survive in Japan during World War II."
        ],
        [
         "47",
         "Back to the Future",
         "Marty McFly, a 17-year-old high school student, is accidentally sent thirty years into the past in a time-traveling DeLorean invented by his close friend, the eccentric scientist Doc Brown.",
         "Marty McFly 17 year old high school student accidentally send thirty year past time travel DeLorean invent close friend eccentric scientist Doc Brown",
         "Marty McFly, a 17-year-old high school student, is accidentally sent thirty years into the past in a time-traveling DeLorean invented by his close friend, the eccentric scientist Doc Brown."
        ],
        [
         "48",
         "Once Upon a Time in the West",
         "A mysterious stranger with a harmonica joins forces with a notorious desperado to protect a beautiful widow from a ruthless assassin working for the railroad.",
         "mysterious stranger harmonica join force notorious desperado protect beautiful widow ruthless assassin work railroad",
         "A mysterious stranger with a harmonica joins forces with a notorious desperado to protect a beautiful widow from a ruthless assassin working for the railroad."
        ],
        [
         "49",
         "Psycho",
         "A Phoenix secretary embezzles $40,000 from her employer's client, goes on the run, and checks into a remote motel run by a young man under the domination of his mother.",
         "Phoenix secretary embezzle $ 40,000 employer client go run check remote motel run young man domination mother",
         "A Phoenix secretary embezzles $40,000 from her employer's client, goes on the run, and checks into a remote motel run by a young man under the domination of his mother."
        ]
       ],
       "shape": {
        "columns": 4,
        "rows": 1000
       }
      },
      "text/html": [
       "<div>\n",
       "<style scoped>\n",
       "    .dataframe tbody tr th:only-of-type {\n",
       "        vertical-align: middle;\n",
       "    }\n",
       "\n",
       "    .dataframe tbody tr th {\n",
       "        vertical-align: top;\n",
       "    }\n",
       "\n",
       "    .dataframe thead th {\n",
       "        text-align: right;\n",
       "    }\n",
       "</style>\n",
       "<table border=\"1\" class=\"dataframe\">\n",
       "  <thead>\n",
       "    <tr style=\"text-align: right;\">\n",
       "      <th></th>\n",
       "      <th>Series_Title</th>\n",
       "      <th>Overview</th>\n",
       "      <th>Preprocessed</th>\n",
       "      <th>Docs</th>\n",
       "    </tr>\n",
       "  </thead>\n",
       "  <tbody>\n",
       "    <tr>\n",
       "      <th>0</th>\n",
       "      <td>The Shawshank Redemption</td>\n",
       "      <td>Two imprisoned men bond over a number of years...</td>\n",
       "      <td>imprison man bond number year find solace even...</td>\n",
       "      <td>(Two, imprisoned, men, bond, over, a, number, ...</td>\n",
       "    </tr>\n",
       "    <tr>\n",
       "      <th>1</th>\n",
       "      <td>The Godfather</td>\n",
       "      <td>An organized crime dynasty's aging patriarch t...</td>\n",
       "      <td>organized crime dynasty age patriarch transfer...</td>\n",
       "      <td>(An, organized, crime, dynasty, 's, aging, pat...</td>\n",
       "    </tr>\n",
       "    <tr>\n",
       "      <th>2</th>\n",
       "      <td>The Dark Knight</td>\n",
       "      <td>When the menace known as the Joker wreaks havo...</td>\n",
       "      <td>menace know Joker wreak havoc chaos people Got...</td>\n",
       "      <td>(When, the, menace, known, as, the, Joker, wre...</td>\n",
       "    </tr>\n",
       "    <tr>\n",
       "      <th>3</th>\n",
       "      <td>The Godfather: Part II</td>\n",
       "      <td>The early life and career of Vito Corleone in ...</td>\n",
       "      <td>early life career Vito Corleone 1920s New York...</td>\n",
       "      <td>(The, early, life, and, career, of, Vito, Corl...</td>\n",
       "    </tr>\n",
       "    <tr>\n",
       "      <th>4</th>\n",
       "      <td>12 Angry Men</td>\n",
       "      <td>A jury holdout attempts to prevent a miscarria...</td>\n",
       "      <td>jury holdout attempt prevent miscarriage justi...</td>\n",
       "      <td>(A, jury, holdout, attempts, to, prevent, a, m...</td>\n",
       "    </tr>\n",
       "    <tr>\n",
       "      <th>...</th>\n",
       "      <td>...</td>\n",
       "      <td>...</td>\n",
       "      <td>...</td>\n",
       "      <td>...</td>\n",
       "    </tr>\n",
       "    <tr>\n",
       "      <th>995</th>\n",
       "      <td>Breakfast at Tiffany's</td>\n",
       "      <td>A young New York socialite becomes interested ...</td>\n",
       "      <td>young New York socialite interested young man ...</td>\n",
       "      <td>(A, young, New, York, socialite, becomes, inte...</td>\n",
       "    </tr>\n",
       "    <tr>\n",
       "      <th>996</th>\n",
       "      <td>Giant</td>\n",
       "      <td>Sprawling epic covering the life of a Texas ca...</td>\n",
       "      <td>sprawl epic cover life Texas cattle rancher fa...</td>\n",
       "      <td>(Sprawling, epic, covering, the, life, of, a, ...</td>\n",
       "    </tr>\n",
       "    <tr>\n",
       "      <th>997</th>\n",
       "      <td>From Here to Eternity</td>\n",
       "      <td>In Hawaii in 1941, a private is cruelly punish...</td>\n",
       "      <td>Hawaii 1941 private cruelly punish box unit te...</td>\n",
       "      <td>(In, Hawaii, in, 1941, ,, a, private, is, crue...</td>\n",
       "    </tr>\n",
       "    <tr>\n",
       "      <th>998</th>\n",
       "      <td>Lifeboat</td>\n",
       "      <td>Several survivors of a torpedoed merchant ship...</td>\n",
       "      <td>survivor torpedoed merchant ship World War II ...</td>\n",
       "      <td>(Several, survivors, of, a, torpedoed, merchan...</td>\n",
       "    </tr>\n",
       "    <tr>\n",
       "      <th>999</th>\n",
       "      <td>The 39 Steps</td>\n",
       "      <td>A man in London tries to help a counter-espion...</td>\n",
       "      <td>man London try help counter espionage agent Ag...</td>\n",
       "      <td>(A, man, in, London, tries, to, help, a, count...</td>\n",
       "    </tr>\n",
       "  </tbody>\n",
       "</table>\n",
       "<p>1000 rows × 4 columns</p>\n",
       "</div>"
      ],
      "text/plain": [
       "                 Series_Title  \\\n",
       "0    The Shawshank Redemption   \n",
       "1               The Godfather   \n",
       "2             The Dark Knight   \n",
       "3      The Godfather: Part II   \n",
       "4                12 Angry Men   \n",
       "..                        ...   \n",
       "995    Breakfast at Tiffany's   \n",
       "996                     Giant   \n",
       "997     From Here to Eternity   \n",
       "998                  Lifeboat   \n",
       "999              The 39 Steps   \n",
       "\n",
       "                                              Overview  \\\n",
       "0    Two imprisoned men bond over a number of years...   \n",
       "1    An organized crime dynasty's aging patriarch t...   \n",
       "2    When the menace known as the Joker wreaks havo...   \n",
       "3    The early life and career of Vito Corleone in ...   \n",
       "4    A jury holdout attempts to prevent a miscarria...   \n",
       "..                                                 ...   \n",
       "995  A young New York socialite becomes interested ...   \n",
       "996  Sprawling epic covering the life of a Texas ca...   \n",
       "997  In Hawaii in 1941, a private is cruelly punish...   \n",
       "998  Several survivors of a torpedoed merchant ship...   \n",
       "999  A man in London tries to help a counter-espion...   \n",
       "\n",
       "                                          Preprocessed  \\\n",
       "0    imprison man bond number year find solace even...   \n",
       "1    organized crime dynasty age patriarch transfer...   \n",
       "2    menace know Joker wreak havoc chaos people Got...   \n",
       "3    early life career Vito Corleone 1920s New York...   \n",
       "4    jury holdout attempt prevent miscarriage justi...   \n",
       "..                                                 ...   \n",
       "995  young New York socialite interested young man ...   \n",
       "996  sprawl epic cover life Texas cattle rancher fa...   \n",
       "997  Hawaii 1941 private cruelly punish box unit te...   \n",
       "998  survivor torpedoed merchant ship World War II ...   \n",
       "999  man London try help counter espionage agent Ag...   \n",
       "\n",
       "                                                  Docs  \n",
       "0    (Two, imprisoned, men, bond, over, a, number, ...  \n",
       "1    (An, organized, crime, dynasty, 's, aging, pat...  \n",
       "2    (When, the, menace, known, as, the, Joker, wre...  \n",
       "3    (The, early, life, and, career, of, Vito, Corl...  \n",
       "4    (A, jury, holdout, attempts, to, prevent, a, m...  \n",
       "..                                                 ...  \n",
       "995  (A, young, New, York, socialite, becomes, inte...  \n",
       "996  (Sprawling, epic, covering, the, life, of, a, ...  \n",
       "997  (In, Hawaii, in, 1941, ,, a, private, is, crue...  \n",
       "998  (Several, survivors, of, a, torpedoed, merchan...  \n",
       "999  (A, man, in, London, tries, to, help, a, count...  \n",
       "\n",
       "[1000 rows x 4 columns]"
      ]
     },
     "execution_count": 12,
     "metadata": {},
     "output_type": "execute_result"
    }
   ],
   "source": [
    "df_preprocessed"
   ]
  },
  {
   "cell_type": "code",
   "execution_count": 13,
   "metadata": {},
   "outputs": [],
   "source": [
    "def Movie_Recommendations(movie):\n",
    "    if movie not in df_removed[\"Series_Title\"].values:\n",
    "        return \"Movie Not Found!\"\n",
    "    \n",
    "    df_movie = df_preprocessed.copy()\n",
    "\n",
    "    doc = df_movie.loc[df_movie[\"Series_Title\"]==movie,\"Docs\"].values[0]\n",
    "\n",
    "    df_movie = df_movie[df_movie[\"Series_Title\"]!=movie]\n",
    "\n",
    "    df_movie[\"Similarity\"] = df_movie[\"Docs\"].apply(lambda x: doc.similarity(x))\n",
    "    \n",
    "    df_movie.sort_values(by=\"Similarity\",ascending=False,inplace=True)\n",
    "\n",
    "    titles = df_movie[\"Series_Title\"].head().values\n",
    "    overviews = df_movie[\"Overview\"].head().values\n",
    "    \n",
    "    recommendations = list(zip(titles,overviews))\n",
    "\n",
    "    return recommendations     "
   ]
  },
  {
   "cell_type": "code",
   "execution_count": 14,
   "metadata": {},
   "outputs": [
    {
     "name": "stdout",
     "output_type": "stream",
     "text": [
      "Lucky Number Slevin\n",
      "A case of mistaken identity lands Slevin into the middle of a war being plotted by two of the city's most rival crime bosses. Under constant surveillance by Detective Brikowski and assassin Goodkat, he must get them before they get him.\n",
      "\n",
      "The Dirty Dozen\n",
      "During World War II, a rebellious U.S. Army Major is assigned a dozen convicted murderers to train and lead them into a mass assassination mission of German officers.\n",
      "\n",
      "Papillon\n",
      "A man befriends a fellow criminal as the two of them begin serving their sentence on a dreadful prison island, which inspires the man to plot his escape.\n",
      "\n",
      "La Grande Illusion\n",
      "During WWI, two French soldiers are captured and imprisoned in a German P.O.W. camp. Several escape attempts follow until they are eventually sent to a seemingly inescapable fortress.\n",
      "\n",
      "The Last Samurai\n",
      "An American military advisor embraces the Samurai culture he was hired to destroy after he is captured in battle.\n",
      "\n"
     ]
    }
   ],
   "source": [
    "for i in Movie_Recommendations(\"The Godfather\"):\n",
    "    print(i[0])\n",
    "    print(i[1])\n",
    "    print()"
   ]
  },
  {
   "cell_type": "code",
   "execution_count": 15,
   "metadata": {},
   "outputs": [
    {
     "data": {
      "text/plain": [
       "[('Lucky Number Slevin',\n",
       "  \"A case of mistaken identity lands Slevin into the middle of a war being plotted by two of the city's most rival crime bosses. Under constant surveillance by Detective Brikowski and assassin Goodkat, he must get them before they get him.\"),\n",
       " ('The Dirty Dozen',\n",
       "  'During World War II, a rebellious U.S. Army Major is assigned a dozen convicted murderers to train and lead them into a mass assassination mission of German officers.'),\n",
       " ('Papillon',\n",
       "  'A man befriends a fellow criminal as the two of them begin serving their sentence on a dreadful prison island, which inspires the man to plot his escape.'),\n",
       " ('La Grande Illusion',\n",
       "  'During WWI, two French soldiers are captured and imprisoned in a German P.O.W. camp. Several escape attempts follow until they are eventually sent to a seemingly inescapable fortress.'),\n",
       " ('The Last Samurai',\n",
       "  'An American military advisor embraces the Samurai culture he was hired to destroy after he is captured in battle.')]"
      ]
     },
     "execution_count": 15,
     "metadata": {},
     "output_type": "execute_result"
    }
   ],
   "source": [
    "Movie_Recommendations(\"The Godfather\")"
   ]
  },
  {
   "cell_type": "code",
   "execution_count": 16,
   "metadata": {},
   "outputs": [
    {
     "data": {
      "text/plain": [
       "'Movie Not Found!'"
      ]
     },
     "execution_count": 16,
     "metadata": {},
     "output_type": "execute_result"
    }
   ],
   "source": [
    "Movie_Recommendations(\"Peaky Blinders\")"
   ]
  },
  {
   "cell_type": "code",
   "execution_count": 17,
   "metadata": {},
   "outputs": [],
   "source": [
    "movies = df_preprocessed[\"Series_Title\"].values"
   ]
  },
  {
   "cell_type": "code",
   "execution_count": 18,
   "metadata": {},
   "outputs": [],
   "source": [
    "nlp.to_disk(\"Movie_Recommend_Model\")"
   ]
  },
  {
   "cell_type": "code",
   "execution_count": 19,
   "metadata": {},
   "outputs": [],
   "source": [
    "dit = {\"DataSet\":df_preprocessed,\"Movies\":movies}\n",
    "\n",
    "with open(\"Movie_Recommend.pkl\",\"wb\") as f:\n",
    "    pickle.dump(dit,f)"
   ]
  },
  {
   "cell_type": "code",
   "execution_count": 20,
   "metadata": {},
   "outputs": [
    {
     "data": {
      "text/plain": [
       "Index(['Series_Title', 'Overview', 'Preprocessed', 'Docs'], dtype='object')"
      ]
     },
     "execution_count": 20,
     "metadata": {},
     "output_type": "execute_result"
    }
   ],
   "source": [
    "df_preprocessed.columns"
   ]
  }
 ],
 "metadata": {
  "kernelspec": {
   "display_name": "Python 3",
   "language": "python",
   "name": "python3"
  },
  "language_info": {
   "codemirror_mode": {
    "name": "ipython",
    "version": 3
   },
   "file_extension": ".py",
   "mimetype": "text/x-python",
   "name": "python",
   "nbconvert_exporter": "python",
   "pygments_lexer": "ipython3",
   "version": "3.10.11"
  }
 },
 "nbformat": 4,
 "nbformat_minor": 2
}
